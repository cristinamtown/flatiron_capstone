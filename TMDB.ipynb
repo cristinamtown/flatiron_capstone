{
 "cells": [
  {
   "cell_type": "code",
   "execution_count": 1,
   "metadata": {},
   "outputs": [],
   "source": [
    "\n",
    "import pandas as pd\n",
    "import tmdbsimple as tmdb\n",
    "\n",
    "tmdb.API_KEY = 'b232f0aaea93efc54dceb56fe507b476'"
   ]
  },
  {
   "cell_type": "code",
   "execution_count": 2,
   "metadata": {},
   "outputs": [],
   "source": [
    "import requests\n",
    "tmdb.REQUESTS_SESSION = requests.Session()"
   ]
  },
  {
   "cell_type": "code",
   "execution_count": 48,
   "metadata": {},
   "outputs": [
    {
     "name": "stdout",
     "output_type": "stream",
     "text": [
      "<class 'pandas.core.frame.DataFrame'>\n",
      "RangeIndex: 71928 entries, 0 to 71927\n",
      "Data columns (total 7 columns):\n",
      "film_name    71872 non-null object\n",
      "lb_id        71928 non-null int64\n",
      "lb_link      71928 non-null object\n",
      "tmdb_id      71928 non-null int64\n",
      "movie_tv     71928 non-null object\n",
      "Year         71927 non-null object\n",
      "Director     71909 non-null object\n",
      "dtypes: int64(2), object(5)\n",
      "memory usage: 3.8+ MB\n",
      "None\n"
     ]
    },
    {
     "data": {
      "text/html": [
       "<div>\n",
       "<style scoped>\n",
       "    .dataframe tbody tr th:only-of-type {\n",
       "        vertical-align: middle;\n",
       "    }\n",
       "\n",
       "    .dataframe tbody tr th {\n",
       "        vertical-align: top;\n",
       "    }\n",
       "\n",
       "    .dataframe thead th {\n",
       "        text-align: right;\n",
       "    }\n",
       "</style>\n",
       "<table border=\"1\" class=\"dataframe\">\n",
       "  <thead>\n",
       "    <tr style=\"text-align: right;\">\n",
       "      <th></th>\n",
       "      <th>film_name</th>\n",
       "      <th>lb_id</th>\n",
       "      <th>lb_link</th>\n",
       "      <th>tmdb_id</th>\n",
       "      <th>movie_tv</th>\n",
       "      <th>Year</th>\n",
       "      <th>Director</th>\n",
       "    </tr>\n",
       "  </thead>\n",
       "  <tbody>\n",
       "    <tr>\n",
       "      <th>0</th>\n",
       "      <td>Parasite</td>\n",
       "      <td>426406</td>\n",
       "      <td>https://letterboxd.com//film/parasite-2019/</td>\n",
       "      <td>496243</td>\n",
       "      <td>movie</td>\n",
       "      <td>2019</td>\n",
       "      <td>Bong Joon-ho</td>\n",
       "    </tr>\n",
       "    <tr>\n",
       "      <th>1</th>\n",
       "      <td>Joker</td>\n",
       "      <td>406775</td>\n",
       "      <td>https://letterboxd.com//film/joker-2019/</td>\n",
       "      <td>475557</td>\n",
       "      <td>movie</td>\n",
       "      <td>2019</td>\n",
       "      <td>Todd Phillips</td>\n",
       "    </tr>\n",
       "    <tr>\n",
       "      <th>2</th>\n",
       "      <td>Knives Out</td>\n",
       "      <td>475370</td>\n",
       "      <td>https://letterboxd.com//film/knives-out-2019/</td>\n",
       "      <td>546554</td>\n",
       "      <td>movie</td>\n",
       "      <td>2019</td>\n",
       "      <td>Rian Johnson</td>\n",
       "    </tr>\n",
       "    <tr>\n",
       "      <th>3</th>\n",
       "      <td>Pulp Fiction</td>\n",
       "      <td>51444</td>\n",
       "      <td>https://letterboxd.com//film/pulp-fiction/</td>\n",
       "      <td>680</td>\n",
       "      <td>movie</td>\n",
       "      <td>1994</td>\n",
       "      <td>Quentin Tarantino</td>\n",
       "    </tr>\n",
       "    <tr>\n",
       "      <th>4</th>\n",
       "      <td>Inception</td>\n",
       "      <td>34722</td>\n",
       "      <td>https://letterboxd.com//film/inception/</td>\n",
       "      <td>27205</td>\n",
       "      <td>movie</td>\n",
       "      <td>2010</td>\n",
       "      <td>Christopher Nolan</td>\n",
       "    </tr>\n",
       "  </tbody>\n",
       "</table>\n",
       "</div>"
      ],
      "text/plain": [
       "      film_name   lb_id                                        lb_link  \\\n",
       "0      Parasite  426406    https://letterboxd.com//film/parasite-2019/   \n",
       "1         Joker  406775       https://letterboxd.com//film/joker-2019/   \n",
       "2    Knives Out  475370  https://letterboxd.com//film/knives-out-2019/   \n",
       "3  Pulp Fiction   51444     https://letterboxd.com//film/pulp-fiction/   \n",
       "4     Inception   34722        https://letterboxd.com//film/inception/   \n",
       "\n",
       "   tmdb_id movie_tv  Year           Director  \n",
       "0   496243    movie  2019       Bong Joon-ho  \n",
       "1   475557    movie  2019      Todd Phillips  \n",
       "2   546554    movie  2019       Rian Johnson  \n",
       "3      680    movie  1994  Quentin Tarantino  \n",
       "4    27205    movie  2010  Christopher Nolan  "
      ]
     },
     "execution_count": 48,
     "metadata": {},
     "output_type": "execute_result"
    }
   ],
   "source": [
    "film_df = pd.read_csv('letterboxd_film_data_director.csv')\n",
    "print(film_df.info())\n",
    "film_df.head()"
   ]
  },
  {
   "cell_type": "code",
   "execution_count": null,
   "metadata": {},
   "outputs": [],
   "source": [
    "## (Need Film Name, Director Film ID,  Year), tagline, Genres, Run_Time, Average Rating, platform, overview, language"
   ]
  },
  {
   "cell_type": "code",
   "execution_count": null,
   "metadata": {},
   "outputs": [],
   "source": [
    "# intialize columns\n",
    "film_df['run_time'] = None\n",
    "film_df['average_rating'] = None\n",
    "film_df['languages'] = None\n",
    "film_df['genres'] = None\n",
    "film_df['tagline'] = None\n",
    "film_df['overview'] = None\n"
   ]
  },
  {
   "cell_type": "code",
   "execution_count": 4,
   "metadata": {},
   "outputs": [],
   "source": [
    "movie = tmdb.Movies(496243)\n",
    "# response = movie.info()\n",
    "# df_movie = pd.DataFrame(columns=['object'])\n",
    "# df_movie.head()"
   ]
  },
  {
   "cell_type": "code",
   "execution_count": 5,
   "metadata": {},
   "outputs": [
    {
     "data": {
      "text/plain": [
       "{'adult': False,\n",
       " 'backdrop_path': '/TU9NIjwzjoKPwQHoHshkFcQUCG.jpg',\n",
       " 'belongs_to_collection': None,\n",
       " 'budget': 11363000,\n",
       " 'genres': [{'id': 35, 'name': 'Comedy'},\n",
       "  {'id': 53, 'name': 'Thriller'},\n",
       "  {'id': 18, 'name': 'Drama'}],\n",
       " 'homepage': 'https://www.parasite-movie.com/',\n",
       " 'id': 496243,\n",
       " 'imdb_id': 'tt6751668',\n",
       " 'original_language': 'ko',\n",
       " 'original_title': '기생충',\n",
       " 'overview': \"All unemployed, Ki-taek's family takes peculiar interest in the wealthy and glamorous Parks for their livelihood until they get entangled in an unexpected incident.\",\n",
       " 'popularity': 120.472,\n",
       " 'poster_path': '/7IiTTgloJzvGI1TAYymCfbfl3vT.jpg',\n",
       " 'production_companies': [{'id': 4399,\n",
       "   'logo_path': '/7bWmbWfxFNSGTCjLHkHn3UjspZS.png',\n",
       "   'name': 'Barunson E&A',\n",
       "   'origin_country': 'KR'},\n",
       "  {'id': 7036,\n",
       "   'logo_path': '/javbyY0ZCvlFJtly3tpZqf2NwLX.png',\n",
       "   'name': 'CJ Entertainment',\n",
       "   'origin_country': 'KR'}],\n",
       " 'production_countries': [{'iso_3166_1': 'KR', 'name': 'South Korea'}],\n",
       " 'release_date': '2019-05-30',\n",
       " 'revenue': 257591776,\n",
       " 'runtime': 133,\n",
       " 'spoken_languages': [{'english_name': 'English',\n",
       "   'iso_639_1': 'en',\n",
       "   'name': 'English'},\n",
       "  {'english_name': 'German', 'iso_639_1': 'de', 'name': 'Deutsch'},\n",
       "  {'english_name': 'Korean', 'iso_639_1': 'ko', 'name': '한국어/조선말'}],\n",
       " 'status': 'Released',\n",
       " 'tagline': 'Act like you own the place.',\n",
       " 'title': 'Parasite',\n",
       " 'video': False,\n",
       " 'vote_average': 8.5,\n",
       " 'vote_count': 11178}"
      ]
     },
     "execution_count": 5,
     "metadata": {},
     "output_type": "execute_result"
    }
   ],
   "source": [
    "movie.info()"
   ]
  },
  {
   "cell_type": "code",
   "execution_count": 6,
   "metadata": {},
   "outputs": [
    {
     "data": {
      "text/plain": [
       "'Parasite'"
      ]
     },
     "execution_count": 6,
     "metadata": {},
     "output_type": "execute_result"
    }
   ],
   "source": [
    "movie.title"
   ]
  },
  {
   "cell_type": "code",
   "execution_count": 49,
   "metadata": {},
   "outputs": [
    {
     "data": {
      "text/html": [
       "<div>\n",
       "<style scoped>\n",
       "    .dataframe tbody tr th:only-of-type {\n",
       "        vertical-align: middle;\n",
       "    }\n",
       "\n",
       "    .dataframe tbody tr th {\n",
       "        vertical-align: top;\n",
       "    }\n",
       "\n",
       "    .dataframe thead th {\n",
       "        text-align: right;\n",
       "    }\n",
       "</style>\n",
       "<table border=\"1\" class=\"dataframe\">\n",
       "  <thead>\n",
       "    <tr style=\"text-align: right;\">\n",
       "      <th></th>\n",
       "      <th>film_name</th>\n",
       "      <th>lb_id</th>\n",
       "      <th>lb_link</th>\n",
       "      <th>tmdb_id</th>\n",
       "      <th>movie_tv</th>\n",
       "      <th>Year</th>\n",
       "      <th>Director</th>\n",
       "    </tr>\n",
       "  </thead>\n",
       "  <tbody>\n",
       "    <tr>\n",
       "      <th>0</th>\n",
       "      <td>Parasite</td>\n",
       "      <td>426406</td>\n",
       "      <td>https://letterboxd.com//film/parasite-2019/</td>\n",
       "      <td>496243</td>\n",
       "      <td>movie</td>\n",
       "      <td>2019</td>\n",
       "      <td>Bong Joon-ho</td>\n",
       "    </tr>\n",
       "    <tr>\n",
       "      <th>1</th>\n",
       "      <td>Joker</td>\n",
       "      <td>406775</td>\n",
       "      <td>https://letterboxd.com//film/joker-2019/</td>\n",
       "      <td>475557</td>\n",
       "      <td>movie</td>\n",
       "      <td>2019</td>\n",
       "      <td>Todd Phillips</td>\n",
       "    </tr>\n",
       "    <tr>\n",
       "      <th>2</th>\n",
       "      <td>Knives Out</td>\n",
       "      <td>475370</td>\n",
       "      <td>https://letterboxd.com//film/knives-out-2019/</td>\n",
       "      <td>546554</td>\n",
       "      <td>movie</td>\n",
       "      <td>2019</td>\n",
       "      <td>Rian Johnson</td>\n",
       "    </tr>\n",
       "    <tr>\n",
       "      <th>3</th>\n",
       "      <td>Pulp Fiction</td>\n",
       "      <td>51444</td>\n",
       "      <td>https://letterboxd.com//film/pulp-fiction/</td>\n",
       "      <td>680</td>\n",
       "      <td>movie</td>\n",
       "      <td>1994</td>\n",
       "      <td>Quentin Tarantino</td>\n",
       "    </tr>\n",
       "    <tr>\n",
       "      <th>4</th>\n",
       "      <td>Inception</td>\n",
       "      <td>34722</td>\n",
       "      <td>https://letterboxd.com//film/inception/</td>\n",
       "      <td>27205</td>\n",
       "      <td>movie</td>\n",
       "      <td>2010</td>\n",
       "      <td>Christopher Nolan</td>\n",
       "    </tr>\n",
       "  </tbody>\n",
       "</table>\n",
       "</div>"
      ],
      "text/plain": [
       "      film_name   lb_id                                        lb_link  \\\n",
       "0      Parasite  426406    https://letterboxd.com//film/parasite-2019/   \n",
       "1         Joker  406775       https://letterboxd.com//film/joker-2019/   \n",
       "2    Knives Out  475370  https://letterboxd.com//film/knives-out-2019/   \n",
       "3  Pulp Fiction   51444     https://letterboxd.com//film/pulp-fiction/   \n",
       "4     Inception   34722        https://letterboxd.com//film/inception/   \n",
       "\n",
       "   tmdb_id movie_tv  Year           Director  \n",
       "0   496243    movie  2019       Bong Joon-ho  \n",
       "1   475557    movie  2019      Todd Phillips  \n",
       "2   546554    movie  2019       Rian Johnson  \n",
       "3      680    movie  1994  Quentin Tarantino  \n",
       "4    27205    movie  2010  Christopher Nolan  "
      ]
     },
     "execution_count": 49,
     "metadata": {},
     "output_type": "execute_result"
    }
   ],
   "source": [
    "test = film_df[0:100]\n",
    "test.head()"
   ]
  },
  {
   "cell_type": "code",
   "execution_count": 45,
   "metadata": {},
   "outputs": [
    {
     "data": {
      "text/plain": [
       "100"
      ]
     },
     "execution_count": 45,
     "metadata": {},
     "output_type": "execute_result"
    }
   ],
   "source": [
    "len(film_languages)"
   ]
  },
  {
   "cell_type": "code",
   "execution_count": null,
   "metadata": {},
   "outputs": [],
   "source": [
    "film_languages = []\n",
    "film_genres = []\n",
    "for x in range(0, 500):\n",
    "    try: \n",
    "        id_num = film_df.loc[x, 'tmdb_id']\n",
    "\n",
    "        movie = tmdb.Movies(id_num)\n",
    "        response = movie.info()\n",
    "    \n",
    "        film_df.loc[x, 'Run_Time'] = response['runtime']\n",
    "        film_df.loc[x, 'Vote_Average'] = response['vote_average']\n",
    "        film_df.loc[x, 'Tagline'] = response['tagline']\n",
    "        film_df.loc[x, 'Overview'] = response['overview']\n",
    "\n",
    "        # Make list of genres\n",
    "        g = response['genres']\n",
    "        genres = []\n",
    "        for y in range(0, len(g)):\n",
    "            s = list(g[y].values())\n",
    "            genres.append(s[1])\n",
    "        film_genres.append(genres)\n",
    "    \n",
    "        # Make list of language\n",
    "        l = response['spoken_languages']\n",
    "        lang = []\n",
    "        for y in range(0, len(l)):\n",
    "            s = list(l[y].values())\n",
    "            lang.append(s[0])\n",
    "        film_languages.append(lang)\n",
    "    \n",
    "    except:\n",
    "        film_df.loc[x, 'Run_Time'] = 'None'\n",
    "        film_df.loc[x, 'Vote_Average'] = 'None'\n",
    "        film_df.loc[x, 'Tagline'] = 'None'\n",
    "        film_df.loc[x, 'Overview'] = 'None'\n",
    "        film_languages.append('None')\n",
    "        film_genres.append('None')\n",
    "\n",
    "film_df['Languages'] = film_languages\n",
    "\n",
    "film_df['Genres'] = film_genres\n",
    "\n",
    "film_df.head()"
   ]
  },
  {
   "cell_type": "code",
   "execution_count": 53,
   "metadata": {},
   "outputs": [
    {
     "name": "stdout",
     "output_type": "stream",
     "text": [
      "<class 'pandas.core.frame.DataFrame'>\n",
      "RangeIndex: 71928 entries, 0 to 71927\n",
      "Data columns (total 13 columns):\n",
      "film_name       71872 non-null object\n",
      "lb_id           71928 non-null int64\n",
      "lb_link         71928 non-null object\n",
      "tmdb_id         71928 non-null int64\n",
      "movie_tv        71928 non-null object\n",
      "Year            71927 non-null object\n",
      "Director        71909 non-null object\n",
      "Run_Time        71877 non-null object\n",
      "Vote_Average    71928 non-null object\n",
      "Tagline         71928 non-null object\n",
      "Overview        71928 non-null object\n",
      "Languages       71928 non-null object\n",
      "Genres          71928 non-null object\n",
      "dtypes: int64(2), object(11)\n",
      "memory usage: 7.1+ MB\n"
     ]
    }
   ],
   "source": [
    "film_df.info()"
   ]
  },
  {
   "cell_type": "code",
   "execution_count": 51,
   "metadata": {},
   "outputs": [
    {
     "name": "stdout",
     "output_type": "stream",
     "text": [
      "<class 'pandas.core.frame.DataFrame'>\n",
      "RangeIndex: 100 entries, 0 to 99\n",
      "Data columns (total 13 columns):\n",
      "film_name       100 non-null object\n",
      "lb_id           100 non-null int64\n",
      "lb_link         100 non-null object\n",
      "tmdb_id         100 non-null int64\n",
      "movie_tv        100 non-null object\n",
      "Year            100 non-null object\n",
      "Director        100 non-null object\n",
      "run_time        100 non-null float64\n",
      "vote_average    100 non-null float64\n",
      "tagline         100 non-null object\n",
      "overview        100 non-null object\n",
      "Languages       100 non-null object\n",
      "Genres          100 non-null object\n",
      "dtypes: float64(2), int64(2), object(9)\n",
      "memory usage: 10.2+ KB\n"
     ]
    }
   ],
   "source": [
    "test['']"
   ]
  },
  {
   "cell_type": "code",
   "execution_count": 124,
   "metadata": {},
   "outputs": [
    {
     "ename": "AttributeError",
     "evalue": "'Movies' object has no attribute 'vote_average'",
     "output_type": "error",
     "traceback": [
      "\u001b[0;31m---------------------------------------------------------------------------\u001b[0m",
      "\u001b[0;31mAttributeError\u001b[0m                            Traceback (most recent call last)",
      "\u001b[0;32m<ipython-input-124-177396a79aa5>\u001b[0m in \u001b[0;36m<module>\u001b[0;34m\u001b[0m\n\u001b[1;32m     22\u001b[0m \u001b[0;34m\u001b[0m\u001b[0m\n\u001b[1;32m     23\u001b[0m \u001b[0;34m\u001b[0m\u001b[0m\n\u001b[0;32m---> 24\u001b[0;31m         \u001b[0mfilm_df\u001b[0m\u001b[0;34m.\u001b[0m\u001b[0miloc\u001b[0m\u001b[0;34m[\u001b[0m\u001b[0mx\u001b[0m\u001b[0;34m]\u001b[0m\u001b[0;34m[\u001b[0m\u001b[0;34m'average_rating'\u001b[0m\u001b[0;34m]\u001b[0m \u001b[0;34m=\u001b[0m \u001b[0mmovie\u001b[0m\u001b[0;34m.\u001b[0m\u001b[0mvote_average\u001b[0m\u001b[0;34m\u001b[0m\u001b[0;34m\u001b[0m\u001b[0m\n\u001b[0m\u001b[1;32m     25\u001b[0m         \u001b[0mfilm_df\u001b[0m\u001b[0;34m.\u001b[0m\u001b[0miloc\u001b[0m\u001b[0;34m[\u001b[0m\u001b[0mx\u001b[0m\u001b[0;34m]\u001b[0m\u001b[0;34m[\u001b[0m\u001b[0;34m'tagline'\u001b[0m\u001b[0;34m]\u001b[0m \u001b[0;34m=\u001b[0m \u001b[0mmovie\u001b[0m\u001b[0;34m.\u001b[0m\u001b[0mtagline\u001b[0m\u001b[0;34m\u001b[0m\u001b[0;34m\u001b[0m\u001b[0m\n\u001b[1;32m     26\u001b[0m         \u001b[0mfilm_df\u001b[0m\u001b[0;34m.\u001b[0m\u001b[0miloc\u001b[0m\u001b[0;34m[\u001b[0m\u001b[0mx\u001b[0m\u001b[0;34m]\u001b[0m\u001b[0;34m[\u001b[0m\u001b[0;34m'runtime'\u001b[0m\u001b[0;34m]\u001b[0m \u001b[0;34m=\u001b[0m \u001b[0mmovie\u001b[0m\u001b[0;34m.\u001b[0m\u001b[0mruntime\u001b[0m\u001b[0;34m\u001b[0m\u001b[0;34m\u001b[0m\u001b[0m\n",
      "\u001b[0;31mAttributeError\u001b[0m: 'Movies' object has no attribute 'vote_average'"
     ]
    }
   ],
   "source": [
    "for x in range(0, len(film_df['tmdb_id'])):\n",
    "    if film_df.iloc[x]['movie_tv'] == 'movie':\n",
    "        id_num = film_df.iloc[x]['tmdb_id']\n",
    "\n",
    "        movie = tmdb.Movies(id_num)\n",
    "        response = movie.info\n",
    "\n",
    "        try:\n",
    "            # Make list of language\n",
    "            l = movie.spoken_languages\n",
    "            lang = []\n",
    "            for x in range(0, len(l)):\n",
    "                s = list(l[x].values())\n",
    "                lang.append(s[0])\n",
    "            film_df.iloc[x]['language'] = lang\n",
    "\n",
    "            # Make list of genres\n",
    "            g = movie.genres\n",
    "            genres = []\n",
    "            for x in range(0, len(g)):\n",
    "                s = list(g[x].values())\n",
    "                genres.append(s[1])\n",
    "            film_df.iloc[x]['genres'] = genres\n",
    "\n",
    "\n",
    "            film_df.iloc[x]['average_rating'] = movie.vote_average\n",
    "            film_df.iloc[x]['tagline'] = movie.tagline\n",
    "            film_df.iloc[x]['runtime'] = movie.runtime\n",
    "            film_df.iloc[x]['overview'] = movie.overview\n",
    "        \n",
    "    else: \n",
    "        id_num = film_df.iloc[x]['tmdb_id']\n",
    "\n",
    "        tv = tmdb.TVMovie(id_num)\n",
    "\n",
    "        # Make list of language\n",
    "        l = tv.spoken_languages\n",
    "        lang = []\n",
    "        for x in range(0, len(l)):\n",
    "            s = list(l[x].values())\n",
    "            lang.append(s[0])\n",
    "        film_df.iloc[x]['language'] = lang\n",
    "\n",
    "        # Make list of genres\n",
    "        g = tv.genres\n",
    "        genres = []\n",
    "        for x in range(0, len(g)):\n",
    "            s = list(g[x].values())\n",
    "            genres.append(s[1])\n",
    "        film_df.iloc[x]['genres'] = genres\n",
    "\n",
    "\n",
    "        film_df.iloc[x]['average_rating'] = tv.vote_average\n",
    "        film_df.iloc[x]['tagline'] = tv.tagline\n",
    "        film_df.iloc[x]['runtime'] = tv.runtime\n",
    "        film_df.iloc[x]['overview'] = tv.overview\n"
   ]
  },
  {
   "cell_type": "code",
   "execution_count": 66,
   "metadata": {},
   "outputs": [
    {
     "data": {
      "text/plain": [
       "{'backdrop_path': '/57vVjteucIF3bGnZj6PmaoJRScw.jpg',\n",
       " 'created_by': [{'id': 123132,\n",
       "   'credit_id': '600b066223d278003d3720ef',\n",
       "   'name': 'Jac Schaeffer',\n",
       "   'gender': 1,\n",
       "   'profile_path': None}],\n",
       " 'episode_run_time': [36, 30],\n",
       " 'first_air_date': '2021-01-15',\n",
       " 'genres': [{'id': 10765, 'name': 'Sci-Fi & Fantasy'},\n",
       "  {'id': 9648, 'name': 'Mystery'},\n",
       "  {'id': 18, 'name': 'Drama'}],\n",
       " 'homepage': 'https://www.disneyplus.com/series/wandavision/4SrN28ZjDLwH',\n",
       " 'id': 85271,\n",
       " 'in_production': False,\n",
       " 'languages': ['en'],\n",
       " 'last_air_date': '2021-03-05',\n",
       " 'last_episode_to_air': {'air_date': '2021-03-05',\n",
       "  'episode_number': 9,\n",
       "  'id': 2724621,\n",
       "  'name': 'The Series Finale',\n",
       "  'overview': 'The events of WandaVision come to a head, and the destinies of all who took part are determined.',\n",
       "  'production_code': '',\n",
       "  'season_number': 1,\n",
       "  'still_path': '/8OIqCs8UUiG1ifmrAcn29A7tL4T.jpg',\n",
       "  'vote_average': 7.6,\n",
       "  'vote_count': 14},\n",
       " 'name': 'WandaVision',\n",
       " 'next_episode_to_air': None,\n",
       " 'networks': [{'name': 'Disney+',\n",
       "   'id': 2739,\n",
       "   'logo_path': '/gJ8VX6JSu3ciXHuC2dDGAo2lvwM.png',\n",
       "   'origin_country': 'US'}],\n",
       " 'number_of_episodes': 9,\n",
       " 'number_of_seasons': 1,\n",
       " 'origin_country': ['US'],\n",
       " 'original_language': 'en',\n",
       " 'original_name': 'WandaVision',\n",
       " 'overview': 'Wanda Maximoff and Vision—two super-powered beings living idealized suburban lives—begin to suspect that everything is not as it seems.',\n",
       " 'popularity': 769.423,\n",
       " 'poster_path': '/glKDfE6btIRcVB5zrjspRIs4r52.jpg',\n",
       " 'production_companies': [{'id': 420,\n",
       "   'logo_path': '/hUzeosd33nzE5MCNsZxCGEKTXaQ.png',\n",
       "   'name': 'Marvel Studios',\n",
       "   'origin_country': 'US'}],\n",
       " 'production_countries': [{'iso_3166_1': 'US',\n",
       "   'name': 'United States of America'}],\n",
       " 'seasons': [{'air_date': '2021-01-15',\n",
       "   'episode_count': 9,\n",
       "   'id': 114993,\n",
       "   'name': 'Season 1',\n",
       "   'overview': '',\n",
       "   'poster_path': '/2RBNHQxWwTDBTmShhdanYvbuS6x.jpg',\n",
       "   'season_number': 1}],\n",
       " 'spoken_languages': [{'english_name': 'English',\n",
       "   'iso_639_1': 'en',\n",
       "   'name': 'English'}],\n",
       " 'status': 'Ended',\n",
       " 'tagline': 'Experience a new vision of reality.',\n",
       " 'type': 'Miniseries',\n",
       " 'vote_average': 8.4,\n",
       " 'vote_count': 8156}"
      ]
     },
     "execution_count": 66,
     "metadata": {},
     "output_type": "execute_result"
    }
   ],
   "source": [
    "tv = tmdb.TV(85271)\n",
    "response = tv.info()\n",
    "response"
   ]
  },
  {
   "cell_type": "code",
   "execution_count": null,
   "metadata": {},
   "outputs": [],
   "source": []
  }
 ],
 "metadata": {
  "kernelspec": {
   "display_name": "Python [conda env:learn-env] *",
   "language": "python",
   "name": "conda-env-learn-env-py"
  },
  "language_info": {
   "codemirror_mode": {
    "name": "ipython",
    "version": 3
   },
   "file_extension": ".py",
   "mimetype": "text/x-python",
   "name": "python",
   "nbconvert_exporter": "python",
   "pygments_lexer": "ipython3",
   "version": "3.6.9"
  },
  "toc": {
   "base_numbering": 1,
   "nav_menu": {},
   "number_sections": true,
   "sideBar": true,
   "skip_h1_title": false,
   "title_cell": "Table of Contents",
   "title_sidebar": "Contents",
   "toc_cell": false,
   "toc_position": {},
   "toc_section_display": true,
   "toc_window_display": false
  }
 },
 "nbformat": 4,
 "nbformat_minor": 2
}
