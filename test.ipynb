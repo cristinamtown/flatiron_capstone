{
 "cells": [
  {
   "cell_type": "markdown",
   "metadata": {},
   "source": [
    "# Building a Recommendation System in PySpark - Lab\n",
    "\n",
    "## Introduction\n",
    "\n",
    "In this lab, we will implement a movie recommendation system using ALS in Spark programming environment. Spark's machine learning library `ml` comes packaged with a very efficient implementation of the ALS algorithm that we looked at in the previous lesson. The lab will require you to put into practice your Spark programming skills for creating and manipulating PySpark DataFrames. We will go through a step-by-step process into developing a movie recommendation system using ALS and PySpark using the `MovieLens` dataset that we used in a previous lab.\n",
    "\n",
    "Note: You are advised to refer to [PySpark documentation](http://spark.apache.org/docs/2.2.0/api/python/index.html) heavily for completing this lab as it will introduce a few new methods. \n",
    "\n",
    "\n",
    "## Objectives\n",
    "\n",
    "In this lab you will: \n",
    "\n",
    "- Use Spark to train and cross-validate an ALS model \n",
    "- Introduce a new user with rating to a rating matrix and make recommendations for them \n",
    "- Create a function that will return the top n recommendations for a user "
   ]
  },
  {
   "cell_type": "markdown",
   "metadata": {},
   "source": [
    "## Building a Recommendation System\n",
    "\n",
    "We have seen how recommendation systems have played an integral part in the success of Amazon (books, items), Pandora/Spotify (music), Google (news, search), YouTube (videos) etc.  For Amazon, these systems bring more than 30% of their total revenue. For Netflix, 75% of movies that people watch are based on some sort of recommendation.\n",
    "\n",
    "> The goal of recommendation systems is to find what is likely to be of interest to the user. This enables organizations to offer a high level of personalization and customer tailored services.\n",
    "\n",
    "\n",
    "For online video content services like Netflix and Hulu, the need to build robust movie recommendation systems is extremely important. An example of a recommendation system is such as this:\n",
    "\n",
    "1.    User A watches Game of Thrones and Breaking Bad \n",
    "2.    User B performs a search query for Game of Thrones \n",
    "3.    The system suggests Breaking Bad to user B from data collected about user A \n",
    "\n",
    "\n",
    "This lab will guide you through a step-by-step process into developing such a movie recommendation system. We will use the `MovieLens` dataset to build a movie recommendation system using the collaborative filtering technique with Spark's Alternating Least Squares implementation. After building that recommendation system, we will go through the process of adding a new user to the dataset with some new ratings and obtaining new recommendations for that user.\n",
    "\n",
    "### Importing the Data\n",
    "\n",
    "* Initialize a `SparkSession` object\n",
    "* Import the dataset found at `'./data/ratings.csv'` into a PySpark DataFrame"
   ]
  },
  {
   "cell_type": "code",
   "execution_count": 5,
   "metadata": {},
   "outputs": [],
   "source": [
    "import pandas as pd\n",
    "import numpy as np\n",
    "df = pd.read_csv('panda_dataframes/user_rating_3col.csv')"
   ]
  },
  {
   "cell_type": "code",
   "execution_count": 6,
   "metadata": {},
   "outputs": [
    {
     "name": "stdout",
     "output_type": "stream",
     "text": [
      "<class 'pandas.core.frame.DataFrame'>\n",
      "RangeIndex: 904873 entries, 0 to 904872\n",
      "Data columns (total 3 columns):\n",
      "film_id     904873 non-null int64\n",
      "username    904873 non-null object\n",
      "rating      579707 non-null float64\n",
      "dtypes: float64(1), int64(1), object(1)\n",
      "memory usage: 20.7+ MB\n"
     ]
    }
   ],
   "source": [
    "df.info()"
   ]
  },
  {
   "cell_type": "code",
   "execution_count": 11,
   "metadata": {},
   "outputs": [],
   "source": [
    "threshold = 100 # Anything that occurs less than this will be removed.\n",
    "value_counts = df['film_id'].value_counts() # Specific column \n",
    "to_remove = value_counts[value_counts <= threshold].index\n",
    "df['film_id'].replace(to_remove, np.nan, inplace=True)"
   ]
  },
  {
   "cell_type": "code",
   "execution_count": 12,
   "metadata": {},
   "outputs": [],
   "source": [
    "df.dropna(inplace=True)"
   ]
  },
  {
   "cell_type": "code",
   "execution_count": 13,
   "metadata": {},
   "outputs": [
    {
     "name": "stdout",
     "output_type": "stream",
     "text": [
      "<class 'pandas.core.frame.DataFrame'>\n",
      "Int64Index: 237964 entries, 4 to 904861\n",
      "Data columns (total 3 columns):\n",
      "film_id     237964 non-null int64\n",
      "username    237964 non-null object\n",
      "rating      237964 non-null float64\n",
      "dtypes: float64(1), int64(1), object(1)\n",
      "memory usage: 7.3+ MB\n"
     ]
    }
   ],
   "source": [
    "df['film_id'] = df['film_id'].astype(int)\n",
    "df.info()"
   ]
  },
  {
   "cell_type": "code",
   "execution_count": 14,
   "metadata": {},
   "outputs": [
    {
     "data": {
      "text/plain": [
       "426406    768\n",
       "406775    607\n",
       "475370    583\n",
       "326279    568\n",
       "353117    550\n",
       "459564    546\n",
       "51444     523\n",
       "404266    519\n",
       "397859    512\n",
       "95113     507\n",
       "34722     495\n",
       "460830    495\n",
       "51432     491\n",
       "422682    490\n",
       "251943    485\n",
       "240344    484\n",
       "433863    482\n",
       "444600    478\n",
       "51921     474\n",
       "149857    468\n",
       "51568     468\n",
       "51896     466\n",
       "41352     463\n",
       "259441    455\n",
       "114564    453\n",
       "424348    453\n",
       "333029    451\n",
       "312205    450\n",
       "438511    448\n",
       "171384    447\n",
       "         ... \n",
       "40276     102\n",
       "45263     102\n",
       "205114    102\n",
       "43015     102\n",
       "15077     102\n",
       "51472     102\n",
       "69453     102\n",
       "46084     102\n",
       "318913    102\n",
       "19921     102\n",
       "47062     102\n",
       "353273    102\n",
       "266628    102\n",
       "635253    102\n",
       "47345     102\n",
       "46778     102\n",
       "174195    101\n",
       "153285    101\n",
       "50953     101\n",
       "44920     101\n",
       "46263     101\n",
       "47913     101\n",
       "49886     101\n",
       "51163     101\n",
       "345176    101\n",
       "276291    101\n",
       "51470     101\n",
       "50224     101\n",
       "50390     101\n",
       "422900    101\n",
       "Name: film_id, Length: 1237, dtype: int64"
      ]
     },
     "execution_count": 14,
     "metadata": {},
     "output_type": "execute_result"
    }
   ],
   "source": [
    "df['film_id'].value_counts()"
   ]
  },
  {
   "cell_type": "code",
   "execution_count": 15,
   "metadata": {},
   "outputs": [],
   "source": [
    "# import necessary libraries\n",
    "from pyspark.sql import SparkSession\n",
    "\n",
    "# instantiate SparkSession object\n",
    "# spark = SparkSession.builder.master('local').getOrCreate()\n",
    "\n",
    "spark = SparkSession\\\n",
    "        .builder\\\n",
    "        .appName('ALSExample').config('spark.driver.host', 'localhost')\\\n",
    "        .getOrCreate()"
   ]
  },
  {
   "cell_type": "code",
   "execution_count": 18,
   "metadata": {},
   "outputs": [],
   "source": [
    "df = df.assign(id=(df['username'].astype('category').cat.codes))\n",
    "\n",
    "movie_ratings = spark.createDataFrame(data=df)\n"
   ]
  },
  {
   "cell_type": "markdown",
   "metadata": {},
   "source": [
    "Check the data types of each of the columns to ensure that they are a type that makes sense given the column."
   ]
  },
  {
   "cell_type": "code",
   "execution_count": 19,
   "metadata": {},
   "outputs": [
    {
     "data": {
      "text/plain": [
       "[('film_id', 'bigint'),\n",
       " ('username', 'string'),\n",
       " ('rating', 'double'),\n",
       " ('id', 'bigint')]"
      ]
     },
     "execution_count": 19,
     "metadata": {},
     "output_type": "execute_result"
    }
   ],
   "source": [
    "movie_ratings.dtypes"
   ]
  },
  {
   "cell_type": "markdown",
   "metadata": {},
   "source": [
    "We aren't going to need the timestamp, so we can go ahead and remove that column."
   ]
  },
  {
   "cell_type": "code",
   "execution_count": 4,
   "metadata": {},
   "outputs": [],
   "source": [
    "# movie_ratings = movie_ratings.drop('timestamp')"
   ]
  },
  {
   "cell_type": "markdown",
   "metadata": {},
   "source": [
    "### Fitting the Alternating Least Squares Model"
   ]
  },
  {
   "cell_type": "markdown",
   "metadata": {},
   "source": [
    "Because this dataset is already preprocessed for us, we can go ahead and fit the Alternating Least Squares model.\n",
    "\n",
    "* Import `ALS` from `pyspark.ml.recommendation` module \n",
    "* Use the `.randomSplit()` method on the pyspark DataFrame to separate the dataset into training and test sets\n",
    "* Fit the Alternating Least Squares Model to the training dataset. Make sure to set the `userCol`, `itemCol`, and `ratingCol` to the appropriate columns given this dataset. Then fit the data to the training set and assign it to a variable model  "
   ]
  },
  {
   "cell_type": "code",
   "execution_count": 21,
   "metadata": {},
   "outputs": [],
   "source": [
    "from pyspark.ml.evaluation import RegressionEvaluator\n",
    "\n",
    "from pyspark.ml.recommendation import ALS\n",
    "\n",
    "# split into training and testing sets\n",
    "(training, test) = movie_ratings.randomSplit([0.8, 0.2])\n",
    "\n",
    "# Build the recommendation model using ALS on the training data\n",
    "# Note we set cold start strategy to 'drop' to ensure we don't get NaN evaluation metrics\n",
    "als = ALS(maxIter=5,rank=4, regParam=0.01, userCol='id', itemCol='film_id', ratingCol='rating',\n",
    "          coldStartStrategy='drop')\n",
    "\n",
    "# fit the ALS model to the training set\n",
    "model = als.fit(training)"
   ]
  },
  {
   "cell_type": "markdown",
   "metadata": {},
   "source": [
    "Now you've fit the model, and it's time to evaluate it to determine just how well it performed.\n",
    "\n",
    "* Import `RegressionEvalutor` from `pyspark.ml.evaluation` \n",
    "* Generate predictions with your model for the test set by using the `.transform()` method on your ALS model \n",
    "* Evaluate your model and print out the RMSE from your test set "
   ]
  },
  {
   "cell_type": "code",
   "execution_count": 22,
   "metadata": {},
   "outputs": [
    {
     "name": "stdout",
     "output_type": "stream",
     "text": [
      "Root-mean-square error = 0.7105219401355057\n"
     ]
    }
   ],
   "source": [
    "# importing appropriate library\n",
    "from pyspark.ml.evaluation import RegressionEvaluator\n",
    "\n",
    "# Evaluate the model by computing the RMSE on the test data\n",
    "predictions = model.transform(test)\n",
    "evaluator = RegressionEvaluator(metricName='rmse', labelCol='rating',\n",
    "                                predictionCol='prediction')\n",
    "rmse = evaluator.evaluate(predictions)\n",
    "print('Root-mean-square error = ' + str(rmse))\n"
   ]
  },
  {
   "cell_type": "markdown",
   "metadata": {},
   "source": [
    "### Cross-validation to Find the Optimal Model\n",
    "\n",
    "Let's now find the optimal values for the parameters of the ALS model. Use the built-in `CrossValidator` in PySpark with a suitable param grid and determine the optimal model. Try with the parameters:\n",
    "\n",
    "* regularization = [0.01, 0.001, 0.1]\n",
    "* rank = [4, 10, 50]\n"
   ]
  },
  {
   "cell_type": "code",
   "execution_count": 24,
   "metadata": {},
   "outputs": [
    {
     "data": {
      "text/plain": [
       "50"
      ]
     },
     "execution_count": 24,
     "metadata": {},
     "output_type": "execute_result"
    }
   ],
   "source": [
    "from pyspark.ml.tuning import CrossValidator, ParamGridBuilder\n",
    "\n",
    "# initialize the ALS model\n",
    "als_model = ALS(userCol='id', itemCol='film_id', \n",
    "                ratingCol='rating', coldStartStrategy='drop')\n",
    "\n",
    "# create the parameter grid                 \n",
    "params = ParamGridBuilder()\\\n",
    "          .addGrid(als_model.regParam, [0.01, 0.001, 0.1])\\\n",
    "          .addGrid(als_model.rank, [4, 10, 50]).build()\n",
    "\n",
    "\n",
    "# instantiating crossvalidator estimator\n",
    "cv = CrossValidator(estimator=als_model, estimatorParamMaps=params,evaluator=evaluator,parallelism=4)\n",
    "best_model = cv.fit(movie_ratings)    \n",
    "\n",
    "# We see the best model has a rank of 50, so we will use that in our future models with this dataset\n",
    "best_model.bestModel.rank\n"
   ]
  },
  {
   "cell_type": "markdown",
   "metadata": {},
   "source": [
    "### Incorporating the names of the movies\n",
    "\n",
    "When we make recommendations, it would be ideal if we could have the actual name of the movie used rather than just an ID. There is another file called `'./data/movies.csv'` that contains all of the names of the movies matched up to the `movie_id` that we have in the ratings dataset.\n",
    "\n",
    "* Import the data into a Spark DataFrame \n",
    "* Look at the first 5 rows"
   ]
  },
  {
   "cell_type": "code",
   "execution_count": 25,
   "metadata": {},
   "outputs": [
    {
     "data": {
      "text/plain": [
       "[Row(film_name='Parasite', lb_id=426406, lb_link='https://letterboxd.com//film/parasite-2019/', tmdb_id=496243, movie_tv='movie', release_year='2019', director='Bong Joon-ho'),\n",
       " Row(film_name='Joker', lb_id=406775, lb_link='https://letterboxd.com//film/joker-2019/', tmdb_id=475557, movie_tv='movie', release_year='2019', director='Todd Phillips'),\n",
       " Row(film_name='Knives Out', lb_id=475370, lb_link='https://letterboxd.com//film/knives-out-2019/', tmdb_id=546554, movie_tv='movie', release_year='2019', director='Rian Johnson'),\n",
       " Row(film_name='Pulp Fiction', lb_id=51444, lb_link='https://letterboxd.com//film/pulp-fiction/', tmdb_id=680, movie_tv='movie', release_year='1994', director='Quentin Tarantino'),\n",
       " Row(film_name='Inception', lb_id=34722, lb_link='https://letterboxd.com//film/inception/', tmdb_id=27205, movie_tv='movie', release_year='2010', director='Christopher Nolan')]"
      ]
     },
     "execution_count": 25,
     "metadata": {},
     "output_type": "execute_result"
    }
   ],
   "source": [
    "movie_titles = spark.read.csv('panda_dataframes/letterboxd_film_data_director.csv',\n",
    "                              header='true',inferSchema='true')\n",
    "\n",
    "movie_titles.head(5)"
   ]
  },
  {
   "cell_type": "markdown",
   "metadata": {},
   "source": [
    "We will eventually be matching up the movie ids with the movie titles. In the cell below, create a function `name_retriever()` that takes in a `movie_id` and returns a string that represents the movie title. \n",
    "\n",
    "> Hint: It's possible to do this operation in one line with the `df.where()` or the `df.filter()` methods "
   ]
  },
  {
   "cell_type": "code",
   "execution_count": 87,
   "metadata": {},
   "outputs": [
    {
     "data": {
      "text/plain": [
       "[Row(film_id=460155, username='xbrookelee', rating=4.5, id=1106),\n",
       " Row(film_id=441862, username='xbrookelee', rating=3.0, id=1106),\n",
       " Row(film_id=268380, username='xbrookelee', rating=4.0, id=1106),\n",
       " Row(film_id=318913, username='xbrookelee', rating=5.0, id=1106),\n",
       " Row(film_id=228628, username='xbrookelee', rating=5.0, id=1106)]"
      ]
     },
     "execution_count": 87,
     "metadata": {},
     "output_type": "execute_result"
    }
   ],
   "source": [
    "movie_ratings.head(5)"
   ]
  },
  {
   "cell_type": "markdown",
   "metadata": {},
   "source": []
  },
  {
   "cell_type": "code",
   "execution_count": 89,
   "metadata": {},
   "outputs": [
    {
     "data": {
      "text/plain": [
       "[Row(film_name='Parasite', lb_id=426406, lb_link='https://letterboxd.com//film/parasite-2019/', tmdb_id=496243, movie_tv='movie', release_year='2019', director='Bong Joon-ho'),\n",
       " Row(film_name='Joker', lb_id=406775, lb_link='https://letterboxd.com//film/joker-2019/', tmdb_id=475557, movie_tv='movie', release_year='2019', director='Todd Phillips'),\n",
       " Row(film_name='Knives Out', lb_id=475370, lb_link='https://letterboxd.com//film/knives-out-2019/', tmdb_id=546554, movie_tv='movie', release_year='2019', director='Rian Johnson'),\n",
       " Row(film_name='Pulp Fiction', lb_id=51444, lb_link='https://letterboxd.com//film/pulp-fiction/', tmdb_id=680, movie_tv='movie', release_year='1994', director='Quentin Tarantino'),\n",
       " Row(film_name='Inception', lb_id=34722, lb_link='https://letterboxd.com//film/inception/', tmdb_id=27205, movie_tv='movie', release_year='2010', director='Christopher Nolan')]"
      ]
     },
     "execution_count": 89,
     "metadata": {},
     "output_type": "execute_result"
    }
   ],
   "source": [
    "movie_titles.head(5)"
   ]
  },
  {
   "cell_type": "code",
   "execution_count": 92,
   "metadata": {},
   "outputs": [],
   "source": [
    "def username_retriever(user_id, rating_df):\n",
    "    return rating_df.where(rating_df.id == user_id).take(1)[0]['username']"
   ]
  },
  {
   "cell_type": "code",
   "execution_count": 123,
   "metadata": {},
   "outputs": [],
   "source": [
    "def id_retriever(username, rating_df):\n",
    "    return rating_df.where(rating_df.username == username).take(1)[0]['id']"
   ]
  },
  {
   "cell_type": "code",
   "execution_count": 32,
   "metadata": {},
   "outputs": [],
   "source": [
    "def name_retriever(movie_id, movie_title_df):\n",
    "    return movie_title_df.where(movie_title_df.film_id == movie_id).take(1)[0]['title']"
   ]
  },
  {
   "cell_type": "code",
   "execution_count": 33,
   "metadata": {},
   "outputs": [
    {
     "name": "stdout",
     "output_type": "stream",
     "text": [
      "Pulp Fiction\n"
     ]
    }
   ],
   "source": [
    "print(name_retriever(51444, movie_titles))"
   ]
  },
  {
   "cell_type": "code",
   "execution_count": 94,
   "metadata": {},
   "outputs": [
    {
     "name": "stdout",
     "output_type": "stream",
     "text": [
      "xbrookelee\n"
     ]
    }
   ],
   "source": [
    "print(username_retriever(1106, movie_ratings))"
   ]
  },
  {
   "cell_type": "code",
   "execution_count": 124,
   "metadata": {},
   "outputs": [
    {
     "name": "stdout",
     "output_type": "stream",
     "text": [
      "1106\n"
     ]
    }
   ],
   "source": [
    "print(id_retriever('xbrookelee', movie_ratings))"
   ]
  },
  {
   "cell_type": "markdown",
   "metadata": {},
   "source": [
    "## Getting Recommendations\n",
    "\n",
    "Now it's time to actually get some recommendations! The ALS model has built-in methods called `.recommendForUserSubset()` and `.recommendForAllUsers()`. We'll start off with using a subset of users. "
   ]
  },
  {
   "cell_type": "code",
   "execution_count": 34,
   "metadata": {},
   "outputs": [],
   "source": [
    "users = movie_ratings.select(als.getUserCol()).distinct().limit(1)\n",
    "userSubsetRecs = model.recommendForUserSubset(users, 10)\n",
    "recs = userSubsetRecs.take(1)"
   ]
  },
  {
   "cell_type": "markdown",
   "metadata": {},
   "source": [
    "We can now see we have a list of rows with recommended items. Now try and get the name of the top recommended movie by way of the function you just created, using number one item for this user."
   ]
  },
  {
   "cell_type": "code",
   "execution_count": 35,
   "metadata": {},
   "outputs": [
    {
     "data": {
      "text/plain": [
       "'Columbus'"
      ]
     },
     "execution_count": 35,
     "metadata": {},
     "output_type": "execute_result"
    }
   ],
   "source": [
    "# use indexing to obtain the movie id of top predicted rated item\n",
    "first_recommendation = recs[0]['recommendations'][0][0]\n",
    "\n",
    "# use the name retriever function to get the values\n",
    "name_retriever(first_recommendation,movie_titles)"
   ]
  },
  {
   "cell_type": "markdown",
   "metadata": {},
   "source": [
    "Of course, you can also make recommendations for everyone, although this will take longer. In the next line, we are creating an RDD with the top 5 recommendations for every user and then selecting one user to find out his predictions:"
   ]
  },
  {
   "cell_type": "code",
   "execution_count": 136,
   "metadata": {},
   "outputs": [],
   "source": [
    "recommendations = model.recommendForAllUsers(5)\n",
    "first_five = recommendations.where(recommendations.id == 3).collect()"
   ]
  },
  {
   "cell_type": "code",
   "execution_count": 59,
   "metadata": {},
   "outputs": [
    {
     "data": {
      "text/plain": [
       "[Row(id=3, recommendations=[Row(film_id=43015, rating=4.676036357879639), Row(film_id=51700, rating=4.672168731689453), Row(film_id=37004, rating=4.65564489364624), Row(film_id=36192, rating=4.6344380378723145), Row(film_id=426406, rating=4.625179290771484)])]"
      ]
     },
     "execution_count": 59,
     "metadata": {},
     "output_type": "execute_result"
    }
   ],
   "source": [
    "[Row(id=3, recommendations=[Row(film_id=43015, rating=4.676036357879639), \n",
    "                            Row(film_id=51700, rating=4.672168731689453), \n",
    "                            Row(film_id=37004, rating=4.65564489364624), \n",
    "                            Row(film_id=36192, rating=4.6344380378723145), \n",
    "                            Row(film_id=426406, rating=4.625179290771484)])]"
   ]
  },
  {
   "cell_type": "code",
   "execution_count": 137,
   "metadata": {},
   "outputs": [],
   "source": [
    "test = first_five[0]"
   ]
  },
  {
   "cell_type": "code",
   "execution_count": 138,
   "metadata": {},
   "outputs": [
    {
     "data": {
      "text/plain": [
       "[Row(film_id=43015, rating=4.676036357879639),\n",
       " Row(film_id=51700, rating=4.672168731689453),\n",
       " Row(film_id=37004, rating=4.65564489364624),\n",
       " Row(film_id=36192, rating=4.6344380378723145),\n",
       " Row(film_id=426406, rating=4.625179290771484)]"
      ]
     },
     "execution_count": 138,
     "metadata": {},
     "output_type": "execute_result"
    }
   ],
   "source": [
    "test = test[1]\n",
    "test\n"
   ]
  },
  {
   "cell_type": "code",
   "execution_count": 140,
   "metadata": {},
   "outputs": [
    {
     "data": {
      "text/plain": [
       "4.676036357879639"
      ]
     },
     "execution_count": 140,
     "metadata": {},
     "output_type": "execute_result"
    }
   ],
   "source": [
    "test[0][1]"
   ]
  },
  {
   "cell_type": "code",
   "execution_count": 147,
   "metadata": {},
   "outputs": [],
   "source": [
    "def first_five_rec(username):\n",
    "    user_id = id_retriever(username, movie_ratings)\n",
    "    recommendations = model.recommendForAllUsers(5)\n",
    "    first_five = recommendations.where(recommendations.id == user_id).collect()\n",
    "    temp = first_five[0]\n",
    "    temp = temp[1]\n",
    "    \n",
    "    print(f'First 5 Recommendations for {username}: \\n')\n",
    "    for x in range(len(temp)):\n",
    "        print(f'{name_retriever(temp[x][0], movie_titles)}, | predicted score = {round(temp[x][1], 2)}')"
   ]
  },
  {
   "cell_type": "code",
   "execution_count": null,
   "metadata": {},
   "outputs": [],
   "source": []
  },
  {
   "cell_type": "code",
   "execution_count": 148,
   "metadata": {},
   "outputs": [
    {
     "name": "stdout",
     "output_type": "stream",
     "text": [
      "First 5 Recommendations for 4dollarshrimp: \n",
      "\n",
      "Harakiri, | predicted score = 4.68\n",
      "12 Angry Men, | predicted score = 4.67\n",
      "Stop Making Sense, | predicted score = 4.66\n",
      "Come and See, | predicted score = 4.63\n",
      "Parasite, | predicted score = 4.63\n"
     ]
    }
   ],
   "source": [
    "first_five_rec('4dollarshrimp')"
   ]
  },
  {
   "cell_type": "markdown",
   "metadata": {},
   "source": [
    "### Getting Predictions for a New User\n",
    "\n",
    "Now, it's time to put together all that you've learned in this section to create a function that will take in a new user and some movies they've rated and then return $n$ number of highest recommended movies. This function will have multiple different steps to it:\n",
    "\n",
    "* Adding the new ratings into the DataFrame (hint: look into using the `.union()` method) \n",
    "* Fitting the ALS model  \n",
    "* Make recommendations for the user of choice \n",
    "* Print out the names of the top $n$ recommendations in a reader-friendly manner \n",
    "\n",
    "The function should take in the parameters: \n",
    "\n",
    "* `user_id` : int \n",
    "* `new_ratings` : list of tuples in the format (user_id, item_id, rating)\n",
    "* `rating_df` : spark DF containing ratings\n",
    "* `movie_title_df` : spark DF containing movie titles\n",
    "* `num_recs` : int"
   ]
  },
  {
   "cell_type": "markdown",
   "metadata": {},
   "source": [
    "Rate new movies\n",
    "\n",
    "```python\n",
    "[Row(movieId=3253, title='Wayne's World (1992)', genres='Comedy'),\n",
    " Row(movieId=2459, title='Texas Chainsaw Massacre, The (1974)', genres='Horror'),\n",
    " Row(movieId=2513, title='Pet Sematary (1989)', genres='Horror'),\n",
    " Row(movieId=6502, title='28 Days Later (2002)', genres='Action|Horror|Sci-Fi'),\n",
    " Row(movieId=1091, title='Weekend at Bernie's (1989)', genres='Comedy'),\n",
    "Row(movieId=441, title='Dazed and Confused (1993)', genres='Comedy'),\n",
    "Row(movieId=370, title='Naked Gun 33 1/3: The Final Insult (1994)', genres='Action|Comedy')]\n",
    "\n",
    "```"
   ]
  },
  {
   "cell_type": "code",
   "execution_count": 81,
   "metadata": {},
   "outputs": [],
   "source": [
    "def new_user_recs(user_id, new_ratings, rating_df, movie_title_df, num_recs):\n",
    "\n",
    "    # turn the new_recommendations list into a spark DataFrame\n",
    "    new_user_ratings = spark.createDataFrame(new_ratings,rating_df.columns)\n",
    "    \n",
    "    # combine the new ratings df with the rating_df\n",
    "    movie_ratings_combined = rating_df.union(new_user_ratings)\n",
    "    \n",
    "    # split the dataframe into a train and test set\n",
    "#     (training, test) = movie_ratings_combined.randomSplit([0.8, 0.2],seed=0)\n",
    "    \n",
    "    # create an ALS model and fit it\n",
    "    als = ALS(maxIter=5,rank=50, regParam=0.01, userCol=\"userId\", itemCol=\"movieId\", ratingCol=\"rating\",\n",
    "          coldStartStrategy=\"drop\")\n",
    "    model = als.fit(movie_ratings_combined)\n",
    "    \n",
    "    # make recommendations for all users using the recommendForAllUsers method\n",
    "    recommendations = model.recommendForAllUsers(num_recs)\n",
    "    \n",
    "    # get recommendations specifically for the new user that has been added to the DataFrame\n",
    "    recs_for_user = recommendations.where(recommendations.userId == user_id).take(1)\n",
    "    \n",
    "    for ranking, (movie_id, rating) in enumerate(recs_for_user[0]['recommendations']):\n",
    "        movie_string = name_retriever(movie_id,movie_title_df)\n",
    "        print('Recommendation {}: {}  | predicted score :{}'.format(ranking+1,movie_string,rating))\n",
    "        "
   ]
  },
  {
   "cell_type": "code",
   "execution_count": 82,
   "metadata": {
    "scrolled": false
   },
   "outputs": [
    {
     "name": "stdout",
     "output_type": "stream",
     "text": [
      "Recommendation 1: Star Wars: Episode IV - A New Hope (1977)  | predicted score :5.517341136932373\n",
      "Recommendation 2: Usual Suspects, The (1995)  | predicted score :5.442122936248779\n",
      "Recommendation 3: In the Name of the Father (1993)  | predicted score :5.3851237297058105\n",
      "Recommendation 4: Star Wars: Episode V - The Empire Strikes Back (1980)  | predicted score :5.381286144256592\n",
      "Recommendation 5: Fight Club (1999)  | predicted score :5.361552715301514\n",
      "Recommendation 6: Monty Python and the Holy Grail (1975)  | predicted score :5.347217559814453\n",
      "Recommendation 7: Willy Wonka & the Chocolate Factory (1971)  | predicted score :5.328979969024658\n",
      "Recommendation 8: Who Framed Roger Rabbit? (1988)  | predicted score :5.324649810791016\n",
      "Recommendation 9: Clerks (1994)  | predicted score :5.305201530456543\n",
      "Recommendation 10: Office Space (1999)  | predicted score :5.297811985015869\n"
     ]
    }
   ],
   "source": [
    "# try out your function with the movies listed above\n",
    "\n",
    "\n"
   ]
  },
  {
   "cell_type": "markdown",
   "metadata": {},
   "source": [
    "So here we have it! Our recommendation system is generating recommendations for the top 10 movies. \n",
    "\n",
    "\n",
    "\n",
    "\n",
    "## Level up (Optional)\n",
    "\n",
    "\n",
    "* Create a user interface to allow users to easily choose items and get recommendations \n",
    "\n",
    "* Use IMDB links to scrape user reviews from IMDB and using basic NLP techniques, create extra embeddings for ALS model  \n",
    "\n",
    "* Create a hybrid recommender system using features like genre \n",
    "\n",
    "## Summary\n",
    "\n",
    "In this lab, you built a model using Spark, performed some parameter selection, and updated the model every time new user preferences came in. You looked at how Spark's ALS implementation can be used to build a scalable and efficient recommendation system. You also saw that such systems can become computationally expensive and using them with an online system could be a problem with traditional computational platforms. Spark's distributed computing architecture provides a great solution to deploy such recommendation systems for real-world applications (think Amazon, Spotify)."
   ]
  }
 ],
 "metadata": {
  "kernelspec": {
   "display_name": "Python 3",
   "language": "python",
   "name": "python3"
  },
  "language_info": {
   "codemirror_mode": {
    "name": "ipython",
    "version": 3
   },
   "file_extension": ".py",
   "mimetype": "text/x-python",
   "name": "python",
   "nbconvert_exporter": "python",
   "pygments_lexer": "ipython3",
   "version": "3.6.9"
  },
  "toc": {
   "base_numbering": 1,
   "nav_menu": {},
   "number_sections": true,
   "sideBar": true,
   "skip_h1_title": false,
   "title_cell": "Table of Contents",
   "title_sidebar": "Contents",
   "toc_cell": false,
   "toc_position": {},
   "toc_section_display": true,
   "toc_window_display": false
  }
 },
 "nbformat": 4,
 "nbformat_minor": 2
}
