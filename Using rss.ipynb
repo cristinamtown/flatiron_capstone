{
 "cells": [
  {
   "cell_type": "code",
   "execution_count": 2,
   "metadata": {},
   "outputs": [],
   "source": [
    "import feedparser"
   ]
  },
  {
   "cell_type": "code",
   "execution_count": 4,
   "metadata": {},
   "outputs": [
    {
     "name": "stdout",
     "output_type": "stream",
     "text": [
      "{'title': 'The Muppets Valentine Show, 1974 - ★★★', 'title_detail': {'type': 'text/plain', 'language': 'en-US', 'base': 'https://letterboxd.com/creepergnome/rss/', 'value': 'The Muppets Valentine Show, 1974 - ★★★'}, 'links': [{'rel': 'alternate', 'type': 'text/html', 'href': 'https://letterboxd.com/creepergnome/film/the-muppets-valentine-show/'}], 'link': 'https://letterboxd.com/creepergnome/film/the-muppets-valentine-show/', 'id': 'letterboxd-watch-158620546', 'guidislink': False, 'published': 'Thu, 18 Mar 2021 14:44:09 +1300', 'published_parsed': time.struct_time(tm_year=2021, tm_mon=3, tm_mday=18, tm_hour=1, tm_min=44, tm_sec=9, tm_wday=3, tm_yday=77, tm_isdst=0), 'letterboxd_watcheddate': '2021-03-11', 'letterboxd_rewatch': 'No', 'letterboxd_filmtitle': 'The Muppets Valentine Show', 'letterboxd_filmyear': '1974', 'letterboxd_memberrating': '3.0', 'summary': '<p><img src=\"https://a.ltrbxd.com/resized/film-poster/1/4/9/5/8/6/149586-the-muppets-valentine-show-0-500-0-750-crop.jpg?k=7c27d1028e\" /></p> <p>Watched on Thursday March 11, 2021.</p>', 'summary_detail': {'type': 'text/html', 'language': 'en-US', 'base': 'https://letterboxd.com/creepergnome/rss/', 'value': '<p><img src=\"https://a.ltrbxd.com/resized/film-poster/1/4/9/5/8/6/149586-the-muppets-valentine-show-0-500-0-750-crop.jpg?k=7c27d1028e\" /></p> <p>Watched on Thursday March 11, 2021.</p>'}, 'authors': [{'name': 'CreeperGnome'}], 'author': 'CreeperGnome', 'author_detail': {'name': 'CreeperGnome'}}\n"
     ]
    }
   ],
   "source": [
    "movies = feedparser.parse(\"https://letterboxd.com/creepergnome/rss/\")\n",
    "entry = movies.entries[1]\n",
    "\n",
    "print(entry)"
   ]
  },
  {
   "cell_type": "code",
   "execution_count": 5,
   "metadata": {},
   "outputs": [
    {
     "name": "stdout",
     "output_type": "stream",
     "text": [
      "The Muppets Valentine Show, 1974 - ★★★\n"
     ]
    }
   ],
   "source": [
    "print(entry.title)"
   ]
  },
  {
   "cell_type": "code",
   "execution_count": 6,
   "metadata": {},
   "outputs": [
    {
     "data": {
      "text/plain": [
       "'3.0'"
      ]
     },
     "execution_count": 6,
     "metadata": {},
     "output_type": "execute_result"
    }
   ],
   "source": [
    "entry.letterboxd_memberrating"
   ]
  },
  {
   "cell_type": "code",
   "execution_count": 9,
   "metadata": {},
   "outputs": [
    {
     "data": {
      "text/plain": [
       "61"
      ]
     },
     "execution_count": 9,
     "metadata": {},
     "output_type": "execute_result"
    }
   ],
   "source": [
    "len(movies.entries)"
   ]
  },
  {
   "cell_type": "code",
   "execution_count": 10,
   "metadata": {},
   "outputs": [
    {
     "data": {
      "text/plain": [
       "{'title': 'Top Ten of 2016',\n",
       " 'title_detail': {'type': 'text/plain',\n",
       "  'language': 'en-US',\n",
       "  'base': 'https://letterboxd.com/creepergnome/rss/',\n",
       "  'value': 'Top Ten of 2016'},\n",
       " 'links': [{'rel': 'alternate',\n",
       "   'type': 'text/html',\n",
       "   'href': 'https://letterboxd.com/creepergnome/list/top-ten-of-2016/'}],\n",
       " 'link': 'https://letterboxd.com/creepergnome/list/top-ten-of-2016/',\n",
       " 'id': 'letterboxd-list-1519147',\n",
       " 'guidislink': False,\n",
       " 'published': 'Tue, 28 Mar 2017 08:53:57 +1300',\n",
       " 'published_parsed': time.struct_time(tm_year=2017, tm_mon=3, tm_mday=27, tm_hour=19, tm_min=53, tm_sec=57, tm_wday=0, tm_yday=86, tm_isdst=0),\n",
       " 'summary': '<p>Of the few movies I saw in 2016</p> <ol> <li> <a href=\"https://letterboxd.com/film/moonlight-2016/\">Moonlight</a> </li> <li> <a href=\"https://letterboxd.com/film/hidden-figures/\">Hidden Figures</a> </li> <li> <a href=\"https://letterboxd.com/film/moana-2016/\">Moana</a> </li> <li> <a href=\"https://letterboxd.com/film/sing-street/\">Sing Street</a> </li> <li> <a href=\"https://letterboxd.com/film/kubo-and-the-two-strings/\">Kubo and the Two Strings</a> </li> <li> <a href=\"https://letterboxd.com/film/hunt-for-the-wilderpeople/\">Hunt for the Wilderpeople</a> </li> <li> <a href=\"https://letterboxd.com/film/dont-think-twice/\">Don&#039;t Think Twice</a> </li> <li> <a href=\"https://letterboxd.com/film/the-edge-of-seventeen/\">The Edge of Seventeen</a> </li> <li> <a href=\"https://letterboxd.com/film/the-red-turtle/\">The Red Turtle</a> </li> <li> <a href=\"https://letterboxd.com/film/hail-caesar-2016/\">Hail, Caesar!</a> </li> </ol>',\n",
       " 'summary_detail': {'type': 'text/html',\n",
       "  'language': 'en-US',\n",
       "  'base': 'https://letterboxd.com/creepergnome/rss/',\n",
       "  'value': '<p>Of the few movies I saw in 2016</p> <ol> <li> <a href=\"https://letterboxd.com/film/moonlight-2016/\">Moonlight</a> </li> <li> <a href=\"https://letterboxd.com/film/hidden-figures/\">Hidden Figures</a> </li> <li> <a href=\"https://letterboxd.com/film/moana-2016/\">Moana</a> </li> <li> <a href=\"https://letterboxd.com/film/sing-street/\">Sing Street</a> </li> <li> <a href=\"https://letterboxd.com/film/kubo-and-the-two-strings/\">Kubo and the Two Strings</a> </li> <li> <a href=\"https://letterboxd.com/film/hunt-for-the-wilderpeople/\">Hunt for the Wilderpeople</a> </li> <li> <a href=\"https://letterboxd.com/film/dont-think-twice/\">Don&#039;t Think Twice</a> </li> <li> <a href=\"https://letterboxd.com/film/the-edge-of-seventeen/\">The Edge of Seventeen</a> </li> <li> <a href=\"https://letterboxd.com/film/the-red-turtle/\">The Red Turtle</a> </li> <li> <a href=\"https://letterboxd.com/film/hail-caesar-2016/\">Hail, Caesar!</a> </li> </ol>'},\n",
       " 'authors': [{'name': 'CreeperGnome'}],\n",
       " 'author': 'CreeperGnome',\n",
       " 'author_detail': {'name': 'CreeperGnome'}}"
      ]
     },
     "execution_count": 10,
     "metadata": {},
     "output_type": "execute_result"
    }
   ],
   "source": [
    "movies.entries[-1]"
   ]
  },
  {
   "cell_type": "code",
   "execution_count": null,
   "metadata": {},
   "outputs": [],
   "source": []
  }
 ],
 "metadata": {
  "kernelspec": {
   "display_name": "Python [conda env:learn-env] *",
   "language": "python",
   "name": "conda-env-learn-env-py"
  },
  "language_info": {
   "codemirror_mode": {
    "name": "ipython",
    "version": 3
   },
   "file_extension": ".py",
   "mimetype": "text/x-python",
   "name": "python",
   "nbconvert_exporter": "python",
   "pygments_lexer": "ipython3",
   "version": "3.6.9"
  },
  "toc": {
   "base_numbering": 1,
   "nav_menu": {},
   "number_sections": true,
   "sideBar": true,
   "skip_h1_title": false,
   "title_cell": "Table of Contents",
   "title_sidebar": "Contents",
   "toc_cell": false,
   "toc_position": {},
   "toc_section_display": true,
   "toc_window_display": false
  }
 },
 "nbformat": 4,
 "nbformat_minor": 2
}
