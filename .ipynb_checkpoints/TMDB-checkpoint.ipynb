{
 "cells": [
  {
   "cell_type": "markdown",
   "metadata": {},
   "source": [
    "# TMdB API"
   ]
  },
  {
   "cell_type": "markdown",
   "metadata": {},
   "source": [
    "This notebook focuses on gathering movie information from the TMdB API. By the end of the notebook, the final dataframe should consist of the following columns: film name, director, letterboxd ID, Letterboxd link, TMdB ID, year, tagline, genres, run time, average rating, overview, and languages."
   ]
  },
  {
   "cell_type": "code",
   "execution_count": null,
   "metadata": {},
   "outputs": [],
   "source": [
    "# import necessary libraries\n",
    "import pandas as pd\n",
    "import tmdbsimple as tmdb\n"
   ]
  },
  {
   "cell_type": "code",
   "execution_count": null,
   "metadata": {},
   "outputs": [],
   "source": [
    "# Input api key, I am using a path to a txt file to hide the api key\n",
    "api_key = pd.read_csv('/Users/Crisitna/Desktop/FlatIron/Capstone/api.txt')\n",
    "api_key = api_key.columns[0]\n",
    "tmdb.API_KEY = api_key"
   ]
  },
  {
   "cell_type": "code",
   "execution_count": null,
   "metadata": {},
   "outputs": [],
   "source": [
    "# Load dataframe that will add information\n",
    "film_df = pd.read_csv('panda_dataframes/letterboxd_film_data_director.csv')\n",
    "print(film_df.info())\n",
    "film_df.head()"
   ]
  },
  {
   "cell_type": "markdown",
   "metadata": {},
   "source": [
    "We want the final database to have the following columns:  film name, director, letterboxd ID, Letterboxd link, TMdB ID, year, tagline, genres, run time, average rating, overview, and languages.\n",
    "\n",
    "This means we need still need these columns:"
   ]
  },
  {
   "cell_type": "code",
   "execution_count": null,
   "metadata": {},
   "outputs": [],
   "source": [
    "# A quick look at the data any one movie will contain\n",
    "movie = tmdb.Movies(496243)\n",
    "\n",
    "movie.info()"
   ]
  },
  {
   "cell_type": "code",
   "execution_count": null,
   "metadata": {},
   "outputs": [],
   "source": [
    "# Isolating the title\n",
    "movie.title"
   ]
  },
  {
   "cell_type": "code",
   "execution_count": null,
   "metadata": {},
   "outputs": [],
   "source": [
    "# Create a test df to test code before using on larger dataframe\n",
    "test = film_df[0:50].copy()\n",
    "test.head()"
   ]
  },
  {
   "cell_type": "code",
   "execution_count": null,
   "metadata": {},
   "outputs": [],
   "source": [
    "# Check function\n",
    "def create_film_df(df):\n",
    "    film_languages = []\n",
    "    film_genres = []\n",
    "    for x in range(0, len(df['tmdb_id'])):\n",
    "        try: \n",
    "            id_num = df.loc[x, 'tmdb_id']\n",
    "\n",
    "            movie = tmdb.Movies(id_num)\n",
    "            response = movie.info()\n",
    "    \n",
    "            df.loc[x, 'run_time'] = response['runtime']\n",
    "            df.loc[x, 'vote_average'] = response['vote_average']\n",
    "            df.loc[x, 'tagline'] = response['tagline']\n",
    "            df.loc[x, 'overview'] = response['overview']\n",
    "\n",
    "            # Make list of genres\n",
    "            g = response['genres']\n",
    "            genres = []\n",
    "            for y in range(0, len(g)):\n",
    "                s = list(g[y].values())\n",
    "                genres.append(s[1])\n",
    "            film_genres.append(genres)\n",
    "    \n",
    "            # Make list of language\n",
    "            l = response['spoken_languages']\n",
    "            lang = []\n",
    "            for y in range(0, len(l)):\n",
    "                s = list(l[y].values())\n",
    "                lang.append(s[0])\n",
    "            film_languages.append(lang)\n",
    "    \n",
    "        except:\n",
    "            df.loc[x, 'run_time'] = 'None'\n",
    "            df.loc[x, 'vote_average'] = 'None'\n",
    "            df.loc[x, 'tagline'] = 'None'\n",
    "            df.loc[x, 'overview'] = 'None'\n",
    "            film_languages.append('None')\n",
    "            film_genres.append('None')\n",
    "\n",
    "    df['languages'] = film_languages\n",
    "\n",
    "    df['genres'] = film_genres\n",
    "\n",
    "    df.head()\n",
    "    \n",
    "    return df"
   ]
  },
  {
   "cell_type": "code",
   "execution_count": null,
   "metadata": {},
   "outputs": [],
   "source": [
    "create_film_df(test)"
   ]
  },
  {
   "cell_type": "code",
   "execution_count": null,
   "metadata": {},
   "outputs": [],
   "source": [
    "df = create_film_df(film_df)\n",
    "df.head()"
   ]
  },
  {
   "cell_type": "code",
   "execution_count": null,
   "metadata": {},
   "outputs": [],
   "source": [
    "# save df_film to computer\n",
    "df.to_csv(r'panda_dataframes/letterboxd_film_data.csv', index = False)"
   ]
  }
 ],
 "metadata": {
  "kernelspec": {
   "display_name": "Python [conda env:learn-env] *",
   "language": "python",
   "name": "conda-env-learn-env-py"
  },
  "language_info": {
   "codemirror_mode": {
    "name": "ipython",
    "version": 3
   },
   "file_extension": ".py",
   "mimetype": "text/x-python",
   "name": "python",
   "nbconvert_exporter": "python",
   "pygments_lexer": "ipython3",
   "version": "3.6.9"
  },
  "toc": {
   "base_numbering": 1,
   "nav_menu": {},
   "number_sections": true,
   "sideBar": true,
   "skip_h1_title": false,
   "title_cell": "Table of Contents",
   "title_sidebar": "Contents",
   "toc_cell": false,
   "toc_position": {},
   "toc_section_display": true,
   "toc_window_display": false
  }
 },
 "nbformat": 4,
 "nbformat_minor": 2
}
