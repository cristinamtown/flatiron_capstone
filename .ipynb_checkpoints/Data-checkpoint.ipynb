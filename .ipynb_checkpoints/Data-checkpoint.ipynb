{
 "cells": [
  {
   "cell_type": "markdown",
   "metadata": {},
   "source": [
    "# Letterboxd Scraping"
   ]
  },
  {
   "cell_type": "code",
   "execution_count": 34,
   "metadata": {},
   "outputs": [],
   "source": [
    "# Import necessary diaries\n",
    "from bs4 import BeautifulSoup\n",
    "import requests\n",
    "import pandas as pd\n",
    "import time"
   ]
  },
  {
   "cell_type": "markdown",
   "metadata": {},
   "source": [
    "## Generate Username list\n",
    "\n",
    "This function generates a list of the users that follow the chosen user. It scrapes up to 50 pages of usernames from Letterboxd. "
   ]
  },
  {
   "cell_type": "code",
   "execution_count": 35,
   "metadata": {},
   "outputs": [],
   "source": [
    "def users_list(username):\n",
    "    '''Returns a list of users that follow the given username'''\n",
    "    start = time.time()\n",
    "\n",
    "    # First page of usernames\n",
    "    html_page = requests.get('https://letterboxd.com/'+ username + '/followers/page/1') \n",
    "    soup = BeautifulSoup(html_page.content, 'html.parser')\n",
    "\n",
    "    # Create list of usernames\n",
    "    users = [movie.find('a', class_='avatar -a40')['href'] \n",
    "             for movie in soup.find_all('div', class_='person-summary')]\n",
    "\n",
    "    # Add pages 2-49 to list of usernames\n",
    "    for x in range(2, 50):\n",
    "        x = str(x)\n",
    "        html_page = requests.get('https://letterboxd.com/'+ username + '/followers/page/' + x ) \n",
    "        soup = BeautifulSoup(html_page.content, 'html.parser')\n",
    "    \n",
    "        users = users + [movie.find('a', class_='avatar -a40')['href']\n",
    "                          for movie in soup.find_all('div', class_='person-summary')]\n",
    "    \n",
    "    \n",
    "    # Add original username to list\n",
    "    users.append(username)\n",
    "\n",
    "    # Strip the '/' from the usernames\n",
    "    users = [elem.strip('/') for elem in users]\n",
    "    print(f'number of usernames: {len(users)}')\n",
    "\n",
    "    # Print run time\n",
    "    end = time.time()\n",
    "    print(f'time to run: {round((end-start), 2)}')\n",
    "    return users"
   ]
  },
  {
   "cell_type": "markdown",
   "metadata": {},
   "source": [
    "My chosen user is 'fuchsiadyke' due to the fact that they are followed by over 16,000 users ensuring that we will get the 50 full pages of usernames."
   ]
  },
  {
   "cell_type": "code",
   "execution_count": 36,
   "metadata": {},
   "outputs": [
    {
     "name": "stdout",
     "output_type": "stream",
     "text": [
      "number of username: 1226\n",
      "time to run: 51.49\n"
     ]
    }
   ],
   "source": [
    "# Run the above function to get the list of usernames\n",
    "users = users_list('fuchsiadyke')"
   ]
  },
  {
   "cell_type": "markdown",
   "metadata": {},
   "source": [
    "The output after running the above function.\n",
    "\n",
    "- number of usernames: 1226 \n",
    "- time to run: 51.49\n"
   ]
  },
  {
   "cell_type": "code",
   "execution_count": 37,
   "metadata": {},
   "outputs": [
    {
     "data": {
      "text/plain": [
       "['400luxx',\n",
       " 'irphen',\n",
       " 'ormanleah',\n",
       " 'daniphilo',\n",
       " 'thefirstbrick',\n",
       " 'cecchy',\n",
       " 'noahgibbo',\n",
       " 'terramosh',\n",
       " 'guffins',\n",
       " 'dissolveto']"
      ]
     },
     "execution_count": 37,
     "metadata": {},
     "output_type": "execute_result"
    }
   ],
   "source": [
    "# A quick look at the first 10 values in the list\n",
    "users[0:10]"
   ]
  },
  {
   "cell_type": "markdown",
   "metadata": {},
   "source": [
    "## Generate Rating DataFrame "
   ]
  },
  {
   "cell_type": "markdown",
   "metadata": {},
   "source": [
    "The following function uses the gather"
   ]
  },
  {
   "cell_type": "code",
   "execution_count": 38,
   "metadata": {},
   "outputs": [],
   "source": [
    "def user_rating_3_col(username):\n",
    "    '''Scrapes user ratings from Letterboxd.com and creates a dataframe with\n",
    "    three columns: film_id, username, and rating'''\n",
    "\n",
    "    # Scrape the first page of films watched by username\n",
    "    html_page = requests.get('https://letterboxd.com/'+ username + '/films/page/' + '1' )\n",
    "    soup = BeautifulSoup(html_page.content, 'html.parser')\n",
    "    # Find the last page number of films watched by usename\n",
    "\n",
    "    try: \n",
    "        pages = soup.find('div', class_=\"paginate-pages\")\n",
    "        last_page = pages.find_all('li', class_='paginate-page')\n",
    "        last_page = last_page[-1].text\n",
    "    except:\n",
    "        last_page = 1\n",
    "    \n",
    "\n",
    "    # Create dictionary of film_id, film_name, and link\n",
    "    movies = [{'lb_id': movie.find('div', class_='film-poster')['data-film-id']} \n",
    "              for movie in soup.find_all('li', class_='poster-container')]\n",
    "\n",
    "    # Create Dataframe with film_id, film_name, link\n",
    "    df_temp1 = pd.DataFrame(movies)\n",
    "\n",
    "    \n",
    "    film_rating = []\n",
    "    user_rating = []\n",
    "\n",
    "    # Create list of star rating\n",
    "    for x in soup.find_all('li', class_='poster-container'):\n",
    "        try: \n",
    "            film_rating.append(x.find('span', class_='rating').text)\n",
    "        except: \n",
    "            film_rating.append(None)\n",
    "\n",
    "    # Change star rating to number rating        \n",
    "    for x in film_rating:\n",
    "        try:\n",
    "            if x[-1]=='½':\n",
    "                user_rating.append(len(x)-0.5)\n",
    "            else:\n",
    "                user_rating.append(len(x))\n",
    "        except:\n",
    "            user_rating.append(None)\n",
    "            \n",
    "    # Add user_rating to the df\n",
    "    df_temp1['Rating'] = user_rating\n",
    "    df_temp1['Username'] = username\n",
    "    \n",
    "    # Scrape remaining pages and add to Dataframe\n",
    "    lp = int(last_page)\n",
    "\n",
    "    for y in range(2, lp+1):\n",
    "        z = str(y)\n",
    "    \n",
    "        html_page2 = requests.get('https://letterboxd.com/'+ username + '/films/page/' + z )\n",
    "        soup2 = BeautifulSoup(html_page2.content, 'html.parser')\n",
    "        \n",
    "        # Create dictionary of film_id, film_name, and link\n",
    "        movies2 = [{'lb_id': movie.find('div', class_='film-poster')['data-film-id']} \n",
    "                  for movie in soup2.find_all('li', class_='poster-container')]\n",
    "        df_temp = pd.DataFrame(movies2)\n",
    "    \n",
    "        film_rating2 = []\n",
    "        user_rating2 = []\n",
    "        \n",
    "        # Create list of star rating\n",
    "        for x in soup2.find_all('li', class_='poster-container'):\n",
    "            try: \n",
    "                film_rating2.append(x.find('span', class_='rating').text)\n",
    "            except: \n",
    "                film_rating2.append(None)\n",
    "\n",
    "        # Change star rating to number rating        \n",
    "        for x in film_rating2:\n",
    "            try:\n",
    "                if x[-1]=='½':\n",
    "                    user_rating2.append(len(x)-0.5)\n",
    "                else:\n",
    "                    user_rating2.append(len(x))\n",
    "            except:\n",
    "                user_rating2.append(None)\n",
    "            \n",
    "        # add user_rating to the df\n",
    "        df_temp['Rating'] = user_rating2\n",
    "        df_temp['Username'] = username\n",
    "        \n",
    "        \n",
    "        df_temp1 = df_temp1.append(df_temp)\n",
    "        \n",
    "    return df_temp1\n",
    "        "
   ]
  },
  {
   "cell_type": "code",
   "execution_count": 39,
   "metadata": {},
   "outputs": [],
   "source": [
    "# Create a list of test_users to ensure the function works before running on \n",
    "# all usernames\n",
    "\n",
    "test_users = ['ingloriousbasta', 'eldodo', 'tldr_com', 'yangforyin', 'iutub',\n",
    "              'willmsfilms', 'rockz', 'cae_des', 'ca2ba2', 'nischal170', 'javidog', \n",
    "              'irokill', 'ithacuss', 'ngcaihui42', 'mrireilly', 'danyalahmed',\n",
    "              'bortex', 'travishenderson', 'manuelcouto', 'sunsetsofie', 'nataliedc',\n",
    "              'badsioop', 'thewatchmakers', 'tashk', 'redgravehepburn', 'sadfrog23',\n",
    "              'sargy7', 'kna1223', 'janvite', 'privateidahos', 'mirels', 'dovegirl',\n",
    "              'adamcbest', 'sergioaudelo', 'muzwot', 'ethanjame', 'tylerharris',\n",
    "              'bugix', 'stephensboyer', 'kamikazegirls', 'alexisthegay', 'waster', \n",
    "              'seymacetin', 'arent', 'panizzz', 'phillitj', 'midnightnostalg', \n",
    "              'rkrespin', 'spikeydlux', 'sbernstein9', 'cryptidpeep', 'lenilinden',\n",
    "              'jomes', 'groenbaek', 'elisabethmcl', 'jasonmcghan', 'lostasterisk', \n",
    "              'fridge_lp', 'chiarahp', 'jmitchell67', 'dpen42', 'dubsdeedubs', \n",
    "              'piaescobar', 'jgaffney', 'jayhayes05', 'beatrixralph1', \n",
    "              'mickeemouser', '12monkeys']"
   ]
  },
  {
   "cell_type": "code",
   "execution_count": 87,
   "metadata": {},
   "outputs": [
    {
     "name": "stdout",
     "output_type": "stream",
     "text": [
      "This took 10184.73 seconds to run\n"
     ]
    }
   ],
   "source": [
    "start = time.time()\n",
    "\n",
    "df = pd.DataFrame(columns=['film_id'])\n",
    "\n",
    "for user in users:\n",
    "    try:\n",
    "        temp = user_rating_3_col(user)\n",
    "        df = df.append(temp)\n",
    "    except:\n",
    "        pass\n",
    "\n",
    "end = time.time()\n",
    "    \n",
    "print(f'This took {round((end - start), 2)} seconds to run')"
   ]
  },
  {
   "cell_type": "code",
   "execution_count": 88,
   "metadata": {},
   "outputs": [
    {
     "name": "stdout",
     "output_type": "stream",
     "text": [
      "<class 'pandas.core.frame.DataFrame'>\n",
      "Int64Index: 904873 entries, 0 to 69\n",
      "Data columns (total 3 columns):\n",
      "Rating      579707 non-null object\n",
      "Username    904873 non-null object\n",
      "film_id     904873 non-null object\n",
      "dtypes: object(3)\n",
      "memory usage: 27.6+ MB\n"
     ]
    }
   ],
   "source": [
    "df.info()"
   ]
  },
  {
   "cell_type": "code",
   "execution_count": 89,
   "metadata": {},
   "outputs": [
    {
     "data": {
      "text/html": [
       "<div>\n",
       "<style scoped>\n",
       "    .dataframe tbody tr th:only-of-type {\n",
       "        vertical-align: middle;\n",
       "    }\n",
       "\n",
       "    .dataframe tbody tr th {\n",
       "        vertical-align: top;\n",
       "    }\n",
       "\n",
       "    .dataframe thead th {\n",
       "        text-align: right;\n",
       "    }\n",
       "</style>\n",
       "<table border=\"1\" class=\"dataframe\">\n",
       "  <thead>\n",
       "    <tr style=\"text-align: right;\">\n",
       "      <th></th>\n",
       "      <th>Rating</th>\n",
       "      <th>Username</th>\n",
       "      <th>film_id</th>\n",
       "    </tr>\n",
       "  </thead>\n",
       "  <tbody>\n",
       "    <tr>\n",
       "      <th>65</th>\n",
       "      <td>2.5</td>\n",
       "      <td>fuchsiadyke</td>\n",
       "      <td>119146</td>\n",
       "    </tr>\n",
       "    <tr>\n",
       "      <th>66</th>\n",
       "      <td>2.5</td>\n",
       "      <td>fuchsiadyke</td>\n",
       "      <td>139477</td>\n",
       "    </tr>\n",
       "    <tr>\n",
       "      <th>67</th>\n",
       "      <td>2</td>\n",
       "      <td>fuchsiadyke</td>\n",
       "      <td>385899</td>\n",
       "    </tr>\n",
       "    <tr>\n",
       "      <th>68</th>\n",
       "      <td>2</td>\n",
       "      <td>fuchsiadyke</td>\n",
       "      <td>51137</td>\n",
       "    </tr>\n",
       "    <tr>\n",
       "      <th>69</th>\n",
       "      <td>3.5</td>\n",
       "      <td>fuchsiadyke</td>\n",
       "      <td>130566</td>\n",
       "    </tr>\n",
       "  </tbody>\n",
       "</table>\n",
       "</div>"
      ],
      "text/plain": [
       "   Rating     Username film_id\n",
       "65    2.5  fuchsiadyke  119146\n",
       "66    2.5  fuchsiadyke  139477\n",
       "67      2  fuchsiadyke  385899\n",
       "68      2  fuchsiadyke   51137\n",
       "69    3.5  fuchsiadyke  130566"
      ]
     },
     "execution_count": 89,
     "metadata": {},
     "output_type": "execute_result"
    }
   ],
   "source": [
    "df.tail()"
   ]
  },
  {
   "cell_type": "code",
   "execution_count": 2,
   "metadata": {},
   "outputs": [],
   "source": [
    "# Rearrange the columns into how we will use them in the models.\n",
    "df = df[['Username', 'film_id', 'Rating']]"
   ]
  },
  {
   "cell_type": "code",
   "execution_count": 3,
   "metadata": {},
   "outputs": [],
   "source": [
    "# Save df as a .csv file\n",
    "df.to_csv(r'user_rating_3col.csv', index = False)"
   ]
  },
  {
   "cell_type": "markdown",
   "metadata": {},
   "source": [
    "## Create DataFrame with Usernames as Separate Columns"
   ]
  },
  {
   "cell_type": "code",
   "execution_count": 80,
   "metadata": {},
   "outputs": [],
   "source": [
    "def user_rating(username):\n",
    "    \n",
    "    # Scrape the first page of films watched by username\n",
    "    html_page = requests.get('https://letterboxd.com/'+ username + '/films/page/' + '1' )\n",
    "    soup = BeautifulSoup(html_page.content, 'html.parser')\n",
    "    # Find the last page number of films watched by usename\n",
    "\n",
    "    try: \n",
    "        pages = soup.find('div', class_=\"paginate-pages\")\n",
    "        last_page = pages.find_all('li', class_='paginate-page')\n",
    "        last_page = last_page[-1].text\n",
    "    except:\n",
    "        last_page = 1\n",
    "    \n",
    "\n",
    "    # Create dictionary of film_id, film_name, and link\n",
    "    movies = [{'film_id': movie.find('div', class_='film-poster')['data-film-id']} \n",
    "              for movie in soup.find_all('li', class_='poster-container')]\n",
    "\n",
    "    # Create Dataframe with film_id, film_name, link\n",
    "    df_temp1 = pd.DataFrame(movies)\n",
    "\n",
    "    \n",
    "    film_rating = []\n",
    "    user_rating = []\n",
    "\n",
    "    # Create list of star rating\n",
    "    for x in soup.find_all('li', class_='poster-container'):\n",
    "        try: \n",
    "            film_rating.append(x.find('span', class_='rating').text)\n",
    "        except: \n",
    "            film_rating.append(None)\n",
    "\n",
    "    # Change star rating to number rating        \n",
    "    for x in film_rating:\n",
    "        try:\n",
    "            if x[-1]=='½':\n",
    "                user_rating.append(len(x)-0.5)\n",
    "            else:\n",
    "                user_rating.append(len(x))\n",
    "        except:\n",
    "            user_rating.append(None)\n",
    "            \n",
    "    # Add user_rating to the df\n",
    "    df_temp1[username] = user_rating\n",
    "    \n",
    "    # Scrape remaining pages and add to Dataframe\n",
    "    lp = int(last_page)\n",
    "\n",
    "    for y in range(2, lp+1):\n",
    "        z = str(y)\n",
    "    \n",
    "        html_page2 = requests.get('https://letterboxd.com/'+ username + '/films/page/' + z )\n",
    "        soup2 = BeautifulSoup(html_page2.content, 'html.parser')\n",
    "        \n",
    "        # Create dictionary of film_id, film_name, and link\n",
    "        movies2 = [{'film_id': movie.find('div', class_='film-poster')['data-film-id']} \n",
    "                  for movie in soup2.find_all('li', class_='poster-container')]\n",
    "        df_temp = pd.DataFrame(movies2)\n",
    "    \n",
    "        film_rating2 = []\n",
    "        user_rating2 = []\n",
    "        \n",
    "        # Create list of star rating\n",
    "        for x in soup2.find_all('li', class_='poster-container'):\n",
    "            try: \n",
    "                film_rating2.append(x.find('span', class_='rating').text)\n",
    "            except: \n",
    "                film_rating2.append(None)\n",
    "\n",
    "        # Change star rating to number rating        \n",
    "        for x in film_rating2:\n",
    "            try:\n",
    "                if x[-1]=='½':\n",
    "                    user_rating2.append(len(x)-0.5)\n",
    "                else:\n",
    "                    user_rating2.append(len(x))\n",
    "            except:\n",
    "                user_rating2.append(None)\n",
    "            \n",
    "         # add user_rating to the df\n",
    "        df_temp[username] = user_rating2\n",
    "        \n",
    "        \n",
    "        df_temp1 = df_temp1.append(df_temp)\n",
    "        \n",
    "        \n",
    "    return df_temp1"
   ]
  },
  {
   "cell_type": "code",
   "execution_count": null,
   "metadata": {},
   "outputs": [],
   "source": [
    "start = time.time()\n",
    "\n",
    "df = pd.DataFrame(columns=['film_id'])\n",
    "\n",
    "for user in test:\n",
    "    try:\n",
    "        temp = user_rating(user)\n",
    "        df = df.merge(temp, on = 'film_id', how = 'outer')\n",
    "    except:\n",
    "        pass\n",
    "\n",
    "end = time.time()\n",
    "    \n",
    "print(f'This took {round((end - start), 2)} seconds to run')"
   ]
  },
  {
   "cell_type": "code",
   "execution_count": null,
   "metadata": {},
   "outputs": [],
   "source": [
    "# Save df as a csv file\n",
    "df.to_csv(r'user_rating.csv', index = False)"
   ]
  },
  {
   "cell_type": "code",
   "execution_count": null,
   "metadata": {},
   "outputs": [],
   "source": []
  },
  {
   "cell_type": "markdown",
   "metadata": {},
   "source": [
    "## Create DataFrame for Film Information"
   ]
  },
  {
   "cell_type": "code",
   "execution_count": 199,
   "metadata": {},
   "outputs": [
    {
     "ename": "AttributeError",
     "evalue": "'float' object has no attribute 'round'",
     "output_type": "error",
     "traceback": [
      "\u001b[0;31m---------------------------------------------------------------------------\u001b[0m",
      "\u001b[0;31mAttributeError\u001b[0m                            Traceback (most recent call last)",
      "\u001b[0;32m<ipython-input-199-fbe967c2d5cb>\u001b[0m in \u001b[0;36m<module>\u001b[0;34m\u001b[0m\n\u001b[1;32m     27\u001b[0m \u001b[0;34m\u001b[0m\u001b[0m\n\u001b[1;32m     28\u001b[0m \u001b[0mend\u001b[0m \u001b[0;34m=\u001b[0m \u001b[0mtime\u001b[0m\u001b[0;34m.\u001b[0m\u001b[0mtime\u001b[0m\u001b[0;34m(\u001b[0m\u001b[0;34m)\u001b[0m\u001b[0;34m\u001b[0m\u001b[0;34m\u001b[0m\u001b[0m\n\u001b[0;32m---> 29\u001b[0;31m \u001b[0mprint\u001b[0m\u001b[0;34m(\u001b[0m\u001b[0;34mf'This took {(end-start).round(2)} seconds to run'\u001b[0m\u001b[0;34m)\u001b[0m\u001b[0;34m\u001b[0m\u001b[0;34m\u001b[0m\u001b[0m\n\u001b[0m",
      "\u001b[0;31mAttributeError\u001b[0m: 'float' object has no attribute 'round'"
     ]
    }
   ],
   "source": [
    "# Scrape the first page of films watched by username\n",
    "start = time.time()\n",
    "html_page = requests.get('https://letterboxd.com/films/ajax/popular/size/small/page/1/')\n",
    "soup = BeautifulSoup(html_page.content, 'html.parser')\n",
    "\n",
    "movies = [{'film_name': movie.find('a', class_='frame')['title'], \n",
    "           'lb_link': 'https://letterboxd.com' + movie.find('a', class_='frame')['href'],\n",
    "           'lb_id': movie.find('div')['data-film-id']}\n",
    "          for movie in soup.find_all('li', class_='listitem poster-container')]\n",
    "\n",
    "df_film = pd.DataFrame(movies)\n",
    "\n",
    "\n",
    "# Add pages 2-3000 to df_film\n",
    "for x in range(2, 3000):\n",
    "    x = str(x)\n",
    "    html_page = requests.get('https://letterboxd.com/films/ajax/popular/size/small/page/' + x)\n",
    "    soup = BeautifulSoup(html_page.content, 'html.parser')\n",
    "    \n",
    "    movies = [{'film_name': movie.find('a', class_='frame')['title'], \n",
    "               'lb_link': 'https://letterboxd.com' + movie.find('a', class_='frame')['href'],\n",
    "               'lb_id': movie.find('div')['data-film-id']}\n",
    "              for movie in soup.find_all('li', class_='listitem poster-container')]\n",
    "    \n",
    "    df_temp = pd.DataFrame(movies)\n",
    "    df_film = df_film.append(df_temp)\n",
    "    \n",
    "end = time.time()\n",
    "print(f'This took {round((end - start), 2)} seconds to run')"
   ]
  },
  {
   "cell_type": "code",
   "execution_count": 230,
   "metadata": {},
   "outputs": [
    {
     "data": {
      "text/plain": [
       "2094.4726977348328"
      ]
     },
     "execution_count": 230,
     "metadata": {},
     "output_type": "execute_result"
    }
   ],
   "source": [
    "end-start"
   ]
  },
  {
   "cell_type": "code",
   "execution_count": 204,
   "metadata": {},
   "outputs": [
    {
     "name": "stdout",
     "output_type": "stream",
     "text": [
      "<class 'pandas.core.frame.DataFrame'>\n",
      "Int64Index: 71928 entries, 0 to 71\n",
      "Data columns (total 3 columns):\n",
      "film_name    71928 non-null object\n",
      "lb_id        71928 non-null object\n",
      "lb_link      71928 non-null object\n",
      "dtypes: object(3)\n",
      "memory usage: 2.2+ MB\n",
      "None\n"
     ]
    },
    {
     "data": {
      "text/html": [
       "<div>\n",
       "<style scoped>\n",
       "    .dataframe tbody tr th:only-of-type {\n",
       "        vertical-align: middle;\n",
       "    }\n",
       "\n",
       "    .dataframe tbody tr th {\n",
       "        vertical-align: top;\n",
       "    }\n",
       "\n",
       "    .dataframe thead th {\n",
       "        text-align: right;\n",
       "    }\n",
       "</style>\n",
       "<table border=\"1\" class=\"dataframe\">\n",
       "  <thead>\n",
       "    <tr style=\"text-align: right;\">\n",
       "      <th></th>\n",
       "      <th>film_name</th>\n",
       "      <th>lb_id</th>\n",
       "      <th>lb_link</th>\n",
       "    </tr>\n",
       "  </thead>\n",
       "  <tbody>\n",
       "    <tr>\n",
       "      <th>0</th>\n",
       "      <td>Parasite (2019)</td>\n",
       "      <td>426406</td>\n",
       "      <td>https://letterboxd.com//film/parasite-2019/</td>\n",
       "    </tr>\n",
       "    <tr>\n",
       "      <th>1</th>\n",
       "      <td>Joker (2019)</td>\n",
       "      <td>406775</td>\n",
       "      <td>https://letterboxd.com//film/joker-2019/</td>\n",
       "    </tr>\n",
       "    <tr>\n",
       "      <th>2</th>\n",
       "      <td>Knives Out (2019)</td>\n",
       "      <td>475370</td>\n",
       "      <td>https://letterboxd.com//film/knives-out-2019/</td>\n",
       "    </tr>\n",
       "    <tr>\n",
       "      <th>3</th>\n",
       "      <td>Pulp Fiction (1994)</td>\n",
       "      <td>51444</td>\n",
       "      <td>https://letterboxd.com//film/pulp-fiction/</td>\n",
       "    </tr>\n",
       "    <tr>\n",
       "      <th>4</th>\n",
       "      <td>Inception (2010)</td>\n",
       "      <td>34722</td>\n",
       "      <td>https://letterboxd.com//film/inception/</td>\n",
       "    </tr>\n",
       "  </tbody>\n",
       "</table>\n",
       "</div>"
      ],
      "text/plain": [
       "             film_name   lb_id                                        lb_link\n",
       "0      Parasite (2019)  426406    https://letterboxd.com//film/parasite-2019/\n",
       "1         Joker (2019)  406775       https://letterboxd.com//film/joker-2019/\n",
       "2    Knives Out (2019)  475370  https://letterboxd.com//film/knives-out-2019/\n",
       "3  Pulp Fiction (1994)   51444     https://letterboxd.com//film/pulp-fiction/\n",
       "4     Inception (2010)   34722        https://letterboxd.com//film/inception/"
      ]
     },
     "execution_count": 204,
     "metadata": {},
     "output_type": "execute_result"
    }
   ],
   "source": [
    "print(df_film.info())\n",
    "df_film.head()"
   ]
  },
  {
   "cell_type": "code",
   "execution_count": 229,
   "metadata": {},
   "outputs": [
    {
     "data": {
      "text/html": [
       "<div>\n",
       "<style scoped>\n",
       "    .dataframe tbody tr th:only-of-type {\n",
       "        vertical-align: middle;\n",
       "    }\n",
       "\n",
       "    .dataframe tbody tr th {\n",
       "        vertical-align: top;\n",
       "    }\n",
       "\n",
       "    .dataframe thead th {\n",
       "        text-align: right;\n",
       "    }\n",
       "</style>\n",
       "<table border=\"1\" class=\"dataframe\">\n",
       "  <thead>\n",
       "    <tr style=\"text-align: right;\">\n",
       "      <th></th>\n",
       "      <th>film_name</th>\n",
       "      <th>lb_id</th>\n",
       "      <th>lb_link</th>\n",
       "      <th>tmdb_id</th>\n",
       "      <th>movie_tv</th>\n",
       "    </tr>\n",
       "  </thead>\n",
       "  <tbody>\n",
       "    <tr>\n",
       "      <th>0</th>\n",
       "      <td>Parasite (2019)</td>\n",
       "      <td>426406</td>\n",
       "      <td>https://letterboxd.com//film/parasite-2019/</td>\n",
       "      <td>None</td>\n",
       "      <td>None</td>\n",
       "    </tr>\n",
       "    <tr>\n",
       "      <th>1</th>\n",
       "      <td>Joker (2019)</td>\n",
       "      <td>406775</td>\n",
       "      <td>https://letterboxd.com//film/joker-2019/</td>\n",
       "      <td>None</td>\n",
       "      <td>None</td>\n",
       "    </tr>\n",
       "    <tr>\n",
       "      <th>2</th>\n",
       "      <td>Knives Out (2019)</td>\n",
       "      <td>475370</td>\n",
       "      <td>https://letterboxd.com//film/knives-out-2019/</td>\n",
       "      <td>None</td>\n",
       "      <td>None</td>\n",
       "    </tr>\n",
       "    <tr>\n",
       "      <th>3</th>\n",
       "      <td>Pulp Fiction (1994)</td>\n",
       "      <td>51444</td>\n",
       "      <td>https://letterboxd.com//film/pulp-fiction/</td>\n",
       "      <td>None</td>\n",
       "      <td>None</td>\n",
       "    </tr>\n",
       "    <tr>\n",
       "      <th>4</th>\n",
       "      <td>Inception (2010)</td>\n",
       "      <td>34722</td>\n",
       "      <td>https://letterboxd.com//film/inception/</td>\n",
       "      <td>None</td>\n",
       "      <td>None</td>\n",
       "    </tr>\n",
       "  </tbody>\n",
       "</table>\n",
       "</div>"
      ],
      "text/plain": [
       "             film_name   lb_id                                        lb_link  \\\n",
       "0      Parasite (2019)  426406    https://letterboxd.com//film/parasite-2019/   \n",
       "1         Joker (2019)  406775       https://letterboxd.com//film/joker-2019/   \n",
       "2    Knives Out (2019)  475370  https://letterboxd.com//film/knives-out-2019/   \n",
       "3  Pulp Fiction (1994)   51444     https://letterboxd.com//film/pulp-fiction/   \n",
       "4     Inception (2010)   34722        https://letterboxd.com//film/inception/   \n",
       "\n",
       "  tmdb_id movie_tv  \n",
       "0    None     None  \n",
       "1    None     None  \n",
       "2    None     None  \n",
       "3    None     None  \n",
       "4    None     None  "
      ]
     },
     "execution_count": 229,
     "metadata": {},
     "output_type": "execute_result"
    }
   ],
   "source": [
    "df_film.head()"
   ]
  },
  {
   "cell_type": "code",
   "execution_count": 263,
   "metadata": {},
   "outputs": [
    {
     "name": "stdout",
     "output_type": "stream",
     "text": [
      "<class 'pandas.core.frame.DataFrame'>\n",
      "Int64Index: 71928 entries, 0 to 71\n",
      "Data columns (total 5 columns):\n",
      "film_name    71928 non-null object\n",
      "lb_id        71928 non-null object\n",
      "lb_link      71928 non-null object\n",
      "tmdb_id      0 non-null object\n",
      "movie_tv     0 non-null object\n",
      "dtypes: object(5)\n",
      "memory usage: 5.8+ MB\n"
     ]
    }
   ],
   "source": [
    "df_film.info()"
   ]
  },
  {
   "cell_type": "code",
   "execution_count": 265,
   "metadata": {},
   "outputs": [
    {
     "data": {
      "text/plain": [
       "71750"
      ]
     },
     "execution_count": 265,
     "metadata": {},
     "output_type": "execute_result"
    }
   ],
   "source": [
    "df_film['film_name'].nunique()"
   ]
  },
  {
   "cell_type": "code",
   "execution_count": 411,
   "metadata": {},
   "outputs": [],
   "source": [
    "df_film['tmdb_id'] = None\n",
    "df_film['movie_tv'] = None\n",
    "df_film['Director'] = None"
   ]
  },
  {
   "cell_type": "code",
   "execution_count": null,
   "metadata": {},
   "outputs": [],
   "source": [
    "copy = df_film.copy()"
   ]
  },
  {
   "cell_type": "code",
   "execution_count": 428,
   "metadata": {},
   "outputs": [
    {
     "name": "stderr",
     "output_type": "stream",
     "text": [
      "/Users/Crisitna/anaconda3/envs/learn-env/lib/python3.6/site-packages/ipykernel_launcher.py:11: SettingWithCopyWarning: \n",
      "A value is trying to be set on a copy of a slice from a DataFrame\n",
      "\n",
      "See the caveats in the documentation: http://pandas.pydata.org/pandas-docs/stable/indexing.html#indexing-view-versus-copy\n",
      "  # This is added back by InteractiveShellApp.init_path()\n",
      "/Users/Crisitna/anaconda3/envs/learn-env/lib/python3.6/site-packages/ipykernel_launcher.py:12: SettingWithCopyWarning: \n",
      "A value is trying to be set on a copy of a slice from a DataFrame\n",
      "\n",
      "See the caveats in the documentation: http://pandas.pydata.org/pandas-docs/stable/indexing.html#indexing-view-versus-copy\n",
      "  if sys.path[0] == '':\n",
      "/Users/Crisitna/anaconda3/envs/learn-env/lib/python3.6/site-packages/ipykernel_launcher.py:13: SettingWithCopyWarning: \n",
      "A value is trying to be set on a copy of a slice from a DataFrame\n",
      "\n",
      "See the caveats in the documentation: http://pandas.pydata.org/pandas-docs/stable/indexing.html#indexing-view-versus-copy\n",
      "  del sys.path[0]\n"
     ]
    },
    {
     "name": "stdout",
     "output_type": "stream",
     "text": [
      "This took 57.51 seconds to run\n"
     ]
    }
   ],
   "source": [
    "start = time.time()\n",
    "for x in range(0, 50):\n",
    "    html = df_film.iloc[x]['lb_link']\n",
    "    html_page = requests.get(html)\n",
    "    film = BeautifulSoup(html_page.content, 'html.parser')\n",
    "    temp = film.find('a', {'data-track-action': 'TMDb'})['href'].split('/')\n",
    "    movie_tv = temp[-3]\n",
    "    tmdb = temp[-2]\n",
    "    temp2 = film.find('div', class_='tabbed-content-block column-block')\n",
    "    temp2.find('a', class_='text-slug').text\n",
    "    df_film.iloc[x]['Director'] = temp2\n",
    "    df_film.iloc[x]['tmdb_id'] = tmdb\n",
    "    df_film.iloc[x]['movie_tv'] = movie_tv\n",
    "    \n",
    "end = time.time()\n",
    "print(f'This took {round((end - start), 2)} seconds to run')\n",
    "# Took 53036.17 seconds to run"
   ]
  },
  {
   "cell_type": "code",
   "execution_count": 429,
   "metadata": {},
   "outputs": [
    {
     "data": {
      "text/html": [
       "<div>\n",
       "<style scoped>\n",
       "    .dataframe tbody tr th:only-of-type {\n",
       "        vertical-align: middle;\n",
       "    }\n",
       "\n",
       "    .dataframe tbody tr th {\n",
       "        vertical-align: top;\n",
       "    }\n",
       "\n",
       "    .dataframe thead th {\n",
       "        text-align: right;\n",
       "    }\n",
       "</style>\n",
       "<table border=\"1\" class=\"dataframe\">\n",
       "  <thead>\n",
       "    <tr style=\"text-align: right;\">\n",
       "      <th></th>\n",
       "      <th>film_name</th>\n",
       "      <th>lb_id</th>\n",
       "      <th>lb_link</th>\n",
       "      <th>tmdb_id</th>\n",
       "      <th>movie_tv</th>\n",
       "      <th>Year</th>\n",
       "      <th>Director</th>\n",
       "    </tr>\n",
       "  </thead>\n",
       "  <tbody>\n",
       "    <tr>\n",
       "      <th>0</th>\n",
       "      <td>Parasite</td>\n",
       "      <td>426406</td>\n",
       "      <td>https://letterboxd.com//film/parasite-2019/</td>\n",
       "      <td>496243</td>\n",
       "      <td>movie</td>\n",
       "      <td>2019</td>\n",
       "      <td>None</td>\n",
       "    </tr>\n",
       "    <tr>\n",
       "      <th>1</th>\n",
       "      <td>Joker</td>\n",
       "      <td>406775</td>\n",
       "      <td>https://letterboxd.com//film/joker-2019/</td>\n",
       "      <td>475557</td>\n",
       "      <td>movie</td>\n",
       "      <td>2019</td>\n",
       "      <td>None</td>\n",
       "    </tr>\n",
       "    <tr>\n",
       "      <th>2</th>\n",
       "      <td>Knives Out</td>\n",
       "      <td>475370</td>\n",
       "      <td>https://letterboxd.com//film/knives-out-2019/</td>\n",
       "      <td>546554</td>\n",
       "      <td>movie</td>\n",
       "      <td>2019</td>\n",
       "      <td>None</td>\n",
       "    </tr>\n",
       "    <tr>\n",
       "      <th>3</th>\n",
       "      <td>Pulp Fiction</td>\n",
       "      <td>51444</td>\n",
       "      <td>https://letterboxd.com//film/pulp-fiction/</td>\n",
       "      <td>680</td>\n",
       "      <td>movie</td>\n",
       "      <td>1994</td>\n",
       "      <td>None</td>\n",
       "    </tr>\n",
       "    <tr>\n",
       "      <th>4</th>\n",
       "      <td>Inception</td>\n",
       "      <td>34722</td>\n",
       "      <td>https://letterboxd.com//film/inception/</td>\n",
       "      <td>27205</td>\n",
       "      <td>movie</td>\n",
       "      <td>2010</td>\n",
       "      <td>None</td>\n",
       "    </tr>\n",
       "  </tbody>\n",
       "</table>\n",
       "</div>"
      ],
      "text/plain": [
       "      film_name   lb_id                                        lb_link  \\\n",
       "0      Parasite  426406    https://letterboxd.com//film/parasite-2019/   \n",
       "1         Joker  406775       https://letterboxd.com//film/joker-2019/   \n",
       "2    Knives Out  475370  https://letterboxd.com//film/knives-out-2019/   \n",
       "3  Pulp Fiction   51444     https://letterboxd.com//film/pulp-fiction/   \n",
       "4     Inception   34722        https://letterboxd.com//film/inception/   \n",
       "\n",
       "  tmdb_id movie_tv  Year Director  \n",
       "0  496243    movie  2019     None  \n",
       "1  475557    movie  2019     None  \n",
       "2  546554    movie  2019     None  \n",
       "3     680    movie  1994     None  \n",
       "4   27205    movie  2010     None  "
      ]
     },
     "execution_count": 429,
     "metadata": {},
     "output_type": "execute_result"
    }
   ],
   "source": [
    "df_film.head()"
   ]
  },
  {
   "cell_type": "code",
   "execution_count": 393,
   "metadata": {},
   "outputs": [],
   "source": [
    "# Add year to dataframe\n",
    "\n",
    "film_ = list(df_film['film_name'])\n",
    "film_year = [film_[0][-5:-1]]\n",
    "\n",
    "for x in range(1, len(film_)):\n",
    "    film_year.append(film_[x][-5:-1])\n",
    "\n",
    "df_film['Year'] = film_year    "
   ]
  },
  {
   "cell_type": "code",
   "execution_count": 395,
   "metadata": {
    "scrolled": true
   },
   "outputs": [
    {
     "data": {
      "text/html": [
       "<div>\n",
       "<style scoped>\n",
       "    .dataframe tbody tr th:only-of-type {\n",
       "        vertical-align: middle;\n",
       "    }\n",
       "\n",
       "    .dataframe tbody tr th {\n",
       "        vertical-align: top;\n",
       "    }\n",
       "\n",
       "    .dataframe thead th {\n",
       "        text-align: right;\n",
       "    }\n",
       "</style>\n",
       "<table border=\"1\" class=\"dataframe\">\n",
       "  <thead>\n",
       "    <tr style=\"text-align: right;\">\n",
       "      <th></th>\n",
       "      <th>film_name</th>\n",
       "      <th>lb_id</th>\n",
       "      <th>lb_link</th>\n",
       "      <th>tmdb_id</th>\n",
       "      <th>movie_tv</th>\n",
       "      <th>Year</th>\n",
       "    </tr>\n",
       "  </thead>\n",
       "  <tbody>\n",
       "    <tr>\n",
       "      <th>0</th>\n",
       "      <td>Parasite</td>\n",
       "      <td>426406</td>\n",
       "      <td>https://letterboxd.com//film/parasite-2019/</td>\n",
       "      <td>496243</td>\n",
       "      <td>movie</td>\n",
       "      <td>2019</td>\n",
       "    </tr>\n",
       "    <tr>\n",
       "      <th>1</th>\n",
       "      <td>Joker</td>\n",
       "      <td>406775</td>\n",
       "      <td>https://letterboxd.com//film/joker-2019/</td>\n",
       "      <td>475557</td>\n",
       "      <td>movie</td>\n",
       "      <td>2019</td>\n",
       "    </tr>\n",
       "    <tr>\n",
       "      <th>2</th>\n",
       "      <td>Knives Out</td>\n",
       "      <td>475370</td>\n",
       "      <td>https://letterboxd.com//film/knives-out-2019/</td>\n",
       "      <td>546554</td>\n",
       "      <td>movie</td>\n",
       "      <td>2019</td>\n",
       "    </tr>\n",
       "    <tr>\n",
       "      <th>3</th>\n",
       "      <td>Pulp Fiction</td>\n",
       "      <td>51444</td>\n",
       "      <td>https://letterboxd.com//film/pulp-fiction/</td>\n",
       "      <td>680</td>\n",
       "      <td>movie</td>\n",
       "      <td>1994</td>\n",
       "    </tr>\n",
       "    <tr>\n",
       "      <th>4</th>\n",
       "      <td>Inception</td>\n",
       "      <td>34722</td>\n",
       "      <td>https://letterboxd.com//film/inception/</td>\n",
       "      <td>27205</td>\n",
       "      <td>movie</td>\n",
       "      <td>2010</td>\n",
       "    </tr>\n",
       "  </tbody>\n",
       "</table>\n",
       "</div>"
      ],
      "text/plain": [
       "      film_name   lb_id                                        lb_link  \\\n",
       "0      Parasite  426406    https://letterboxd.com//film/parasite-2019/   \n",
       "1         Joker  406775       https://letterboxd.com//film/joker-2019/   \n",
       "2    Knives Out  475370  https://letterboxd.com//film/knives-out-2019/   \n",
       "3  Pulp Fiction   51444     https://letterboxd.com//film/pulp-fiction/   \n",
       "4     Inception   34722        https://letterboxd.com//film/inception/   \n",
       "\n",
       "  tmdb_id movie_tv  Year  \n",
       "0  496243    movie  2019  \n",
       "1  475557    movie  2019  \n",
       "2  546554    movie  2019  \n",
       "3     680    movie  1994  \n",
       "4   27205    movie  2010  "
      ]
     },
     "execution_count": 395,
     "metadata": {},
     "output_type": "execute_result"
    }
   ],
   "source": [
    "# Strip year from title\n",
    "\n",
    "df_film['film_name'] = df_film['film_name'].str[:-7]\n",
    "df_film.head()"
   ]
  },
  {
   "cell_type": "code",
   "execution_count": null,
   "metadata": {},
   "outputs": [],
   "source": [
    "df_film = df_film[['film_name', 'lb_id', l'b_link' \ttmdb_id \tmovie_tv \tYear \tDirector"
   ]
  },
  {
   "cell_type": "code",
   "execution_count": 477,
   "metadata": {},
   "outputs": [],
   "source": [
    "# save df_film to computer\n",
    "df_film.to_csv(r'letterboxd_film_data_director.csv', index = False)"
   ]
  },
  {
   "cell_type": "code",
   "execution_count": null,
   "metadata": {},
   "outputs": [],
   "source": [
    "def film_dataframe(end_page):\n",
    "    start = time.time()\n",
    "    \n",
    "    # Scrape the first page of films watched by username\n",
    "    html_page = requests.get('https://letterboxd.com/films/popular/size/small/page/' + '1' )\n",
    "    soup = BeautifulSoup(html_page.content, 'html.parser')\n",
    "    \n",
    "    \n",
    "    "
   ]
  },
  {
   "cell_type": "code",
   "execution_count": null,
   "metadata": {},
   "outputs": [],
   "source": []
  },
  {
   "cell_type": "code",
   "execution_count": 1,
   "metadata": {},
   "outputs": [],
   "source": [
    "## Need Film Name, Film ID, Director, Genres, Year, Time, Average Rating, platform"
   ]
  },
  {
   "cell_type": "markdown",
   "metadata": {},
   "source": [
    "## Create Individual User DataFrames"
   ]
  },
  {
   "cell_type": "code",
   "execution_count": 17,
   "metadata": {},
   "outputs": [],
   "source": [
    "def make_user_df(username):\n",
    "    start = time.time()\n",
    "    \n",
    "    # Scrape the first page of films watched by username\n",
    "    html_page = requests.get('https://letterboxd.com/'+ username + '/films/page/' + '1' )\n",
    "    soup = BeautifulSoup(html_page.content, 'html.parser')\n",
    "    \n",
    "    # Find the last page number of films watched by usename\n",
    "    pages = soup.find('div', class_=\"paginate-pages\")\n",
    "    last_page = pages.find_all('li', class_='paginate-page')\n",
    "    last_page = last_page[-1].text\n",
    "    \n",
    "    # Create dictionary of film_id, film_name, and link\n",
    "    movies = [{'film_id': movie.find('div', class_='film-poster')['data-film-id'],\n",
    "          'film_name': movie.find('img', class_='image')['alt'], \n",
    "          'link': \"https://letterboxd.com\" + movie.find('div', class_= 'film-poster')['data-target-link']} \n",
    "              for movie in soup.find_all('li', class_='poster-container')]\n",
    "    \n",
    "    # Create Dataframe with film_id, film_name, link\n",
    "    df = pd.DataFrame(movies)\n",
    "    \n",
    "    film_rating = []\n",
    "    user_rating = []\n",
    "\n",
    "    # Create list of star rating\n",
    "    for x in soup.find_all('li', class_='poster-container'):\n",
    "        try: \n",
    "            film_rating.append(x.find('span', class_='rating').text)\n",
    "        except: \n",
    "            film_rating.append(None)\n",
    "\n",
    "    # Change star rating to number rating        \n",
    "    for x in film_rating:\n",
    "        try:\n",
    "            if x[-1]=='½':\n",
    "                user_rating.append(len(x)-0.5)\n",
    "            else:\n",
    "                user_rating.append(len(x))\n",
    "        except:\n",
    "            user_rating.append(None)\n",
    "            \n",
    "    # Add user_rating to the df\n",
    "    df['user_rating'] = user_rating\n",
    "    \n",
    "    # Scrape remaining pages and add to Dataframe\n",
    "    lp = int(last_page)\n",
    "    for y in range(2, lp+1):\n",
    "        z = str(y)\n",
    "\n",
    "        html_page2 = requests.get('https://letterboxd.com/'+ username + '/films/page/' + z )\n",
    "        soup2 = BeautifulSoup(html_page2.content, 'html.parser')\n",
    "        \n",
    "        # Create dictionary of film_id, film_name, and link\n",
    "        movies2 = [{'film_id': movie.find('div', class_='film-poster')['data-film-id'],\n",
    "              'film_name': movie.find('img', class_='image')['alt'], \n",
    "              'link': \"https://letterboxd.com\" + movie.find('div', class_= 'film-poster')['data-target-link']} \n",
    "                  for movie in soup2.find_all('li', class_='poster-container')]\n",
    "        df_temp = pd.DataFrame(movies2)\n",
    "    \n",
    "        film_rating2 = []\n",
    "        user_rating2 = []\n",
    "        \n",
    "        # Create list of star rating\n",
    "        for x in soup2.find_all('li', class_='poster-container'):\n",
    "            try: \n",
    "                film_rating2.append(x.find('span', class_='rating').text)\n",
    "            except: \n",
    "                film_rating2.append(None)\n",
    "\n",
    "        # Change star rating to number rating        \n",
    "        for x in film_rating2:\n",
    "            try:\n",
    "                if x[-1]=='½':\n",
    "                    user_rating2.append(len(x)-0.5)\n",
    "                else:\n",
    "                    user_rating2.append(len(x))\n",
    "            except:\n",
    "                user_rating2.append(None)\n",
    "            \n",
    "        # add user_rating to the df\n",
    "        df_temp['user_rating'] = user_rating2\n",
    "        \n",
    "        \n",
    "        df = df.append(df_temp, ignore_index=True)\n",
    "    \n",
    "    end = time.time()\n",
    "    \n",
    "    print(f'This took {round((end - start), 2)} seconds to run')\n",
    "    \n",
    "    return df"
   ]
  },
  {
   "cell_type": "code",
   "execution_count": 133,
   "metadata": {},
   "outputs": [
    {
     "name": "stdout",
     "output_type": "stream",
     "text": [
      "This took 31.13 seconds to run\n"
     ]
    },
    {
     "data": {
      "text/html": [
       "<div>\n",
       "<style scoped>\n",
       "    .dataframe tbody tr th:only-of-type {\n",
       "        vertical-align: middle;\n",
       "    }\n",
       "\n",
       "    .dataframe tbody tr th {\n",
       "        vertical-align: top;\n",
       "    }\n",
       "\n",
       "    .dataframe thead th {\n",
       "        text-align: right;\n",
       "    }\n",
       "</style>\n",
       "<table border=\"1\" class=\"dataframe\">\n",
       "  <thead>\n",
       "    <tr style=\"text-align: right;\">\n",
       "      <th></th>\n",
       "      <th>film_id</th>\n",
       "      <th>film_name</th>\n",
       "      <th>link</th>\n",
       "      <th>user_rating</th>\n",
       "    </tr>\n",
       "  </thead>\n",
       "  <tbody>\n",
       "    <tr>\n",
       "      <th>0</th>\n",
       "      <td>415620</td>\n",
       "      <td>Coming 2 America</td>\n",
       "      <td>https://letterboxd.com/film/coming-2-america/</td>\n",
       "      <td>3.0</td>\n",
       "    </tr>\n",
       "    <tr>\n",
       "      <th>1</th>\n",
       "      <td>494480</td>\n",
       "      <td>The United States vs. Billie Holiday</td>\n",
       "      <td>https://letterboxd.com/film/the-united-states-...</td>\n",
       "      <td>3.0</td>\n",
       "    </tr>\n",
       "    <tr>\n",
       "      <th>2</th>\n",
       "      <td>515466</td>\n",
       "      <td>Tom &amp; Jerry</td>\n",
       "      <td>https://letterboxd.com/film/tom-jerry-2021/</td>\n",
       "      <td>2.0</td>\n",
       "    </tr>\n",
       "    <tr>\n",
       "      <th>3</th>\n",
       "      <td>511342</td>\n",
       "      <td>Judas and the Black Messiah</td>\n",
       "      <td>https://letterboxd.com/film/judas-and-the-blac...</td>\n",
       "      <td>4.0</td>\n",
       "    </tr>\n",
       "    <tr>\n",
       "      <th>4</th>\n",
       "      <td>671813</td>\n",
       "      <td>WandaVision</td>\n",
       "      <td>https://letterboxd.com/film/wandavision/</td>\n",
       "      <td>4.0</td>\n",
       "    </tr>\n",
       "  </tbody>\n",
       "</table>\n",
       "</div>"
      ],
      "text/plain": [
       "  film_id                             film_name  \\\n",
       "0  415620                      Coming 2 America   \n",
       "1  494480  The United States vs. Billie Holiday   \n",
       "2  515466                           Tom & Jerry   \n",
       "3  511342           Judas and the Black Messiah   \n",
       "4  671813                           WandaVision   \n",
       "\n",
       "                                                link  user_rating  \n",
       "0      https://letterboxd.com/film/coming-2-america/          3.0  \n",
       "1  https://letterboxd.com/film/the-united-states-...          3.0  \n",
       "2        https://letterboxd.com/film/tom-jerry-2021/          2.0  \n",
       "3  https://letterboxd.com/film/judas-and-the-blac...          4.0  \n",
       "4           https://letterboxd.com/film/wandavision/          4.0  "
      ]
     },
     "execution_count": 133,
     "metadata": {},
     "output_type": "execute_result"
    }
   ],
   "source": [
    "# Test for username = creepergnome\n",
    "creepergnome = make_user_df('creepergnome')\n",
    "creepergnome.head()"
   ]
  },
  {
   "cell_type": "code",
   "execution_count": 138,
   "metadata": {},
   "outputs": [
    {
     "data": {
      "text/html": [
       "<div>\n",
       "<style scoped>\n",
       "    .dataframe tbody tr th:only-of-type {\n",
       "        vertical-align: middle;\n",
       "    }\n",
       "\n",
       "    .dataframe tbody tr th {\n",
       "        vertical-align: top;\n",
       "    }\n",
       "\n",
       "    .dataframe thead th {\n",
       "        text-align: right;\n",
       "    }\n",
       "</style>\n",
       "<table border=\"1\" class=\"dataframe\">\n",
       "  <thead>\n",
       "    <tr style=\"text-align: right;\">\n",
       "      <th></th>\n",
       "      <th>film_id</th>\n",
       "      <th>film_name</th>\n",
       "      <th>link</th>\n",
       "      <th>user_rating</th>\n",
       "    </tr>\n",
       "  </thead>\n",
       "  <tbody>\n",
       "    <tr>\n",
       "      <th>125</th>\n",
       "      <td>426406</td>\n",
       "      <td>Parasite</td>\n",
       "      <td>https://letterboxd.com/film/parasite-2019/</td>\n",
       "      <td>5.0</td>\n",
       "    </tr>\n",
       "  </tbody>\n",
       "</table>\n",
       "</div>"
      ],
      "text/plain": [
       "    film_id film_name                                        link  user_rating\n",
       "125  426406  Parasite  https://letterboxd.com/film/parasite-2019/          5.0"
      ]
     },
     "execution_count": 138,
     "metadata": {},
     "output_type": "execute_result"
    }
   ],
   "source": [
    "creepergnome.loc[creepergnome['film_name']=='Parasite']"
   ]
  },
  {
   "cell_type": "code",
   "execution_count": 132,
   "metadata": {},
   "outputs": [
    {
     "data": {
      "text/html": [
       "<div>\n",
       "<style scoped>\n",
       "    .dataframe tbody tr th:only-of-type {\n",
       "        vertical-align: middle;\n",
       "    }\n",
       "\n",
       "    .dataframe tbody tr th {\n",
       "        vertical-align: top;\n",
       "    }\n",
       "\n",
       "    .dataframe thead th {\n",
       "        text-align: right;\n",
       "    }\n",
       "</style>\n",
       "<table border=\"1\" class=\"dataframe\">\n",
       "  <thead>\n",
       "    <tr style=\"text-align: right;\">\n",
       "      <th></th>\n",
       "      <th>film_id</th>\n",
       "      <th>film_name</th>\n",
       "      <th>link</th>\n",
       "      <th>user_rating</th>\n",
       "    </tr>\n",
       "  </thead>\n",
       "  <tbody>\n",
       "    <tr>\n",
       "      <th>0</th>\n",
       "      <td>415620</td>\n",
       "      <td>Parasite</td>\n",
       "      <td>https://letterboxd.com/film/coming-2-america/</td>\n",
       "      <td>3.0</td>\n",
       "    </tr>\n",
       "    <tr>\n",
       "      <th>1</th>\n",
       "      <td>494480</td>\n",
       "      <td>Parasite</td>\n",
       "      <td>https://letterboxd.com/film/the-united-states-...</td>\n",
       "      <td>3.0</td>\n",
       "    </tr>\n",
       "    <tr>\n",
       "      <th>2</th>\n",
       "      <td>515466</td>\n",
       "      <td>Parasite</td>\n",
       "      <td>https://letterboxd.com/film/tom-jerry-2021/</td>\n",
       "      <td>2.0</td>\n",
       "    </tr>\n",
       "    <tr>\n",
       "      <th>3</th>\n",
       "      <td>511342</td>\n",
       "      <td>Parasite</td>\n",
       "      <td>https://letterboxd.com/film/judas-and-the-blac...</td>\n",
       "      <td>4.0</td>\n",
       "    </tr>\n",
       "    <tr>\n",
       "      <th>4</th>\n",
       "      <td>671813</td>\n",
       "      <td>Parasite</td>\n",
       "      <td>https://letterboxd.com/film/wandavision/</td>\n",
       "      <td>4.0</td>\n",
       "    </tr>\n",
       "  </tbody>\n",
       "</table>\n",
       "</div>"
      ],
      "text/plain": [
       "  film_id film_name                                               link  \\\n",
       "0  415620  Parasite      https://letterboxd.com/film/coming-2-america/   \n",
       "1  494480  Parasite  https://letterboxd.com/film/the-united-states-...   \n",
       "2  515466  Parasite        https://letterboxd.com/film/tom-jerry-2021/   \n",
       "3  511342  Parasite  https://letterboxd.com/film/judas-and-the-blac...   \n",
       "4  671813  Parasite           https://letterboxd.com/film/wandavision/   \n",
       "\n",
       "   user_rating  \n",
       "0          3.0  \n",
       "1          3.0  \n",
       "2          2.0  \n",
       "3          4.0  \n",
       "4          4.0  "
      ]
     },
     "execution_count": 132,
     "metadata": {},
     "output_type": "execute_result"
    }
   ],
   "source": [
    "creepergnome.head()"
   ]
  },
  {
   "cell_type": "code",
   "execution_count": null,
   "metadata": {},
   "outputs": [],
   "source": [
    "creepergnome['film_id'].nunique()"
   ]
  },
  {
   "cell_type": "code",
   "execution_count": null,
   "metadata": {},
   "outputs": [],
   "source": [
    "creepergnome.info()"
   ]
  },
  {
   "cell_type": "code",
   "execution_count": null,
   "metadata": {},
   "outputs": [],
   "source": [
    "# # Test for username = rockthrowingman\n",
    "# rockthrowingman = make_user_df('rockthrowingman')\n",
    "# rockthrowingman.head()"
   ]
  },
  {
   "cell_type": "code",
   "execution_count": null,
   "metadata": {},
   "outputs": [],
   "source": [
    "# rockthrowingman.tail()"
   ]
  },
  {
   "cell_type": "code",
   "execution_count": null,
   "metadata": {},
   "outputs": [],
   "source": [
    "# rockthrowingman.info()"
   ]
  },
  {
   "cell_type": "code",
   "execution_count": null,
   "metadata": {},
   "outputs": [],
   "source": [
    "# 1000 or so users\n",
    "# \n",
    "\n",
    "# tables => username/ID\n",
    "# movie info\n",
    "# Ratings"
   ]
  },
  {
   "cell_type": "markdown",
   "metadata": {},
   "source": [
    "# Create SQL Table"
   ]
  },
  {
   "cell_type": "code",
   "execution_count": 4,
   "metadata": {},
   "outputs": [],
   "source": [
    "df_rating = pd.read_csv('user_rating_3col.csv')\n",
    "df_film = pd.read_csv('letterboxd_film_data_director.csv')"
   ]
  },
  {
   "cell_type": "code",
   "execution_count": 10,
   "metadata": {},
   "outputs": [
    {
     "data": {
      "text/plain": [
       "Index(['film_name', 'lb_id', 'lb_link', 'tmdb_id', 'movie_tv', 'Year',\n",
       "       'Director'],\n",
       "      dtype='object')"
      ]
     },
     "execution_count": 10,
     "metadata": {},
     "output_type": "execute_result"
    }
   ],
   "source": [
    "df_film.columns"
   ]
  },
  {
   "cell_type": "code",
   "execution_count": 11,
   "metadata": {},
   "outputs": [
    {
     "data": {
      "text/plain": [
       "Index(['Username', 'film_id', 'Rating'], dtype='object')"
      ]
     },
     "execution_count": 11,
     "metadata": {},
     "output_type": "execute_result"
    }
   ],
   "source": [
    "df_rating.columns"
   ]
  },
  {
   "cell_type": "code",
   "execution_count": 5,
   "metadata": {},
   "outputs": [],
   "source": [
    "from sqlalchemy import create_engine\n",
    "\n",
    "engine = create_engine('sqlite:///letterboxd.db', echo=True) "
   ]
  },
  {
   "cell_type": "code",
   "execution_count": 6,
   "metadata": {},
   "outputs": [],
   "source": [
    "# as a function\n",
    "def create_sql_table(df, table_name, engine):\n",
    "    df.to_sql(table_name, con=engine, if_exists='replace')"
   ]
  },
  {
   "cell_type": "code",
   "execution_count": 7,
   "metadata": {},
   "outputs": [
    {
     "name": "stdout",
     "output_type": "stream",
     "text": [
      "2021-04-26 16:15:49,827 INFO sqlalchemy.engine.base.Engine SELECT CAST('test plain returns' AS VARCHAR(60)) AS anon_1\n",
      "2021-04-26 16:15:49,859 INFO sqlalchemy.engine.base.Engine ()\n",
      "2021-04-26 16:15:49,865 INFO sqlalchemy.engine.base.Engine SELECT CAST('test unicode returns' AS VARCHAR(60)) AS anon_1\n",
      "2021-04-26 16:15:49,868 INFO sqlalchemy.engine.base.Engine ()\n",
      "2021-04-26 16:15:49,873 INFO sqlalchemy.engine.base.Engine PRAGMA main.table_info(\"ratings\")\n",
      "2021-04-26 16:15:49,875 INFO sqlalchemy.engine.base.Engine ()\n",
      "2021-04-26 16:15:49,882 INFO sqlalchemy.engine.base.Engine PRAGMA temp.table_info(\"ratings\")\n",
      "2021-04-26 16:15:49,883 INFO sqlalchemy.engine.base.Engine ()\n",
      "2021-04-26 16:15:49,893 INFO sqlalchemy.engine.base.Engine \n",
      "CREATE TABLE ratings (\n",
      "\t\"index\" BIGINT, \n",
      "\t\"Username\" TEXT, \n",
      "\tfilm_id BIGINT, \n",
      "\t\"Rating\" FLOAT\n",
      ")\n",
      "\n",
      "\n",
      "2021-04-26 16:15:49,894 INFO sqlalchemy.engine.base.Engine ()\n",
      "2021-04-26 16:15:49,909 INFO sqlalchemy.engine.base.Engine COMMIT\n",
      "2021-04-26 16:15:49,911 INFO sqlalchemy.engine.base.Engine CREATE INDEX ix_ratings_index ON ratings (\"index\")\n",
      "2021-04-26 16:15:49,912 INFO sqlalchemy.engine.base.Engine ()\n",
      "2021-04-26 16:15:49,921 INFO sqlalchemy.engine.base.Engine COMMIT\n",
      "2021-04-26 16:15:50,337 INFO sqlalchemy.engine.base.Engine BEGIN (implicit)\n",
      "2021-04-26 16:16:04,872 INFO sqlalchemy.engine.base.Engine INSERT INTO ratings (\"index\", \"Username\", film_id, \"Rating\") VALUES (?, ?, ?, ?)\n",
      "2021-04-26 16:16:04,891 INFO sqlalchemy.engine.base.Engine ((0, 'xbrookelee', 320000, 5.0), (1, 'xbrookelee', 564784, 4.5), (2, 'xbrookelee', 579510, 3.5), (3, 'xbrookelee', 510995, 3.5), (4, 'xbrookelee', 460155, 4.5), (5, 'xbrookelee', 441862, 3.0), (6, 'xbrookelee', 451698, 5.0), (7, 'xbrookelee', 268380, 4.0)  ... displaying 10 of 904873 total bound parameter sets ...  (904871, 'fuchsiadyke', 51137, 2.0), (904872, 'fuchsiadyke', 130566, 3.5))\n",
      "2021-04-26 16:16:07,449 INFO sqlalchemy.engine.base.Engine COMMIT\n"
     ]
    }
   ],
   "source": [
    "create_sql_table(df_rating, 'ratings', engine)"
   ]
  },
  {
   "cell_type": "code",
   "execution_count": 8,
   "metadata": {},
   "outputs": [
    {
     "name": "stdout",
     "output_type": "stream",
     "text": [
      "2021-04-26 16:16:07,859 INFO sqlalchemy.engine.base.Engine PRAGMA main.table_info(\"films\")\n",
      "2021-04-26 16:16:07,861 INFO sqlalchemy.engine.base.Engine ()\n",
      "2021-04-26 16:16:07,864 INFO sqlalchemy.engine.base.Engine PRAGMA temp.table_info(\"films\")\n",
      "2021-04-26 16:16:07,865 INFO sqlalchemy.engine.base.Engine ()\n",
      "2021-04-26 16:16:07,873 INFO sqlalchemy.engine.base.Engine \n",
      "CREATE TABLE films (\n",
      "\t\"index\" BIGINT, \n",
      "\tfilm_name TEXT, \n",
      "\tlb_id BIGINT, \n",
      "\tlb_link TEXT, \n",
      "\ttmdb_id BIGINT, \n",
      "\tmovie_tv TEXT, \n",
      "\t\"Year\" TEXT, \n",
      "\t\"Director\" TEXT\n",
      ")\n",
      "\n",
      "\n",
      "2021-04-26 16:16:07,874 INFO sqlalchemy.engine.base.Engine ()\n",
      "2021-04-26 16:16:07,878 INFO sqlalchemy.engine.base.Engine COMMIT\n",
      "2021-04-26 16:16:07,879 INFO sqlalchemy.engine.base.Engine CREATE INDEX ix_films_index ON films (\"index\")\n",
      "2021-04-26 16:16:07,880 INFO sqlalchemy.engine.base.Engine ()\n",
      "2021-04-26 16:16:07,886 INFO sqlalchemy.engine.base.Engine COMMIT\n",
      "2021-04-26 16:16:08,064 INFO sqlalchemy.engine.base.Engine BEGIN (implicit)\n",
      "2021-04-26 16:16:09,372 INFO sqlalchemy.engine.base.Engine INSERT INTO films (\"index\", film_name, lb_id, lb_link, tmdb_id, movie_tv, \"Year\", \"Director\") VALUES (?, ?, ?, ?, ?, ?, ?, ?)\n",
      "2021-04-26 16:16:09,373 INFO sqlalchemy.engine.base.Engine ((0, 'Parasite', 426406, 'https://letterboxd.com//film/parasite-2019/', 496243, 'movie', '2019', 'Bong Joon-ho'), (1, 'Joker', 406775, 'https://letterboxd.com//film/joker-2019/', 475557, 'movie', '2019', 'Todd Phillips'), (2, 'Knives Out', 475370, 'https://letterboxd.com//film/knives-out-2019/', 546554, 'movie', '2019', 'Rian Johnson'), (3, 'Pulp Fiction', 51444, 'https://letterboxd.com//film/pulp-fiction/', 680, 'movie', '1994', 'Quentin Tarantino'), (4, 'Inception', 34722, 'https://letterboxd.com//film/inception/', 27205, 'movie', '2010', 'Christopher Nolan'), (5, 'Get Out', 353117, 'https://letterboxd.com//film/get-out-2017/', 419430, 'movie', '2017', 'Jordan Peele'), (6, 'Once Upon a Time… in Hollywood', 397859, 'https://letterboxd.com//film/once-upon-a-time-in-hollywood/', 466272, 'movie', '2019', 'Quentin Tarantino'), (7, 'Lady Bird', 326279, 'https://letterboxd.com//film/lady-bird/', 391713, 'movie', '2017', 'Greta Gerwig')  ... displaying 10 of 71928 total bound parameter sets ...  (71926, 'Candyman: The David Klein Story', 65909, 'https://letterboxd.com//film/candyman-the-david-klein-story/', 79462, 'movie', '2010', 'Costa Botes'), (71927, 'Utopia and Barbarism', 117541, 'https://letterboxd.com//film/utopia-and-barbarism/', 157291, 'movie', '2009', 'Silvio Tendler'))\n",
      "2021-04-26 16:16:09,862 INFO sqlalchemy.engine.base.Engine COMMIT\n"
     ]
    }
   ],
   "source": [
    "create_sql_table(df_film, 'films', engine)"
   ]
  }
 ],
 "metadata": {
  "kernelspec": {
   "display_name": "Python [conda env:learn-env] *",
   "language": "python",
   "name": "conda-env-learn-env-py"
  },
  "language_info": {
   "codemirror_mode": {
    "name": "ipython",
    "version": 3
   },
   "file_extension": ".py",
   "mimetype": "text/x-python",
   "name": "python",
   "nbconvert_exporter": "python",
   "pygments_lexer": "ipython3",
   "version": "3.6.9"
  },
  "toc": {
   "base_numbering": 1,
   "nav_menu": {},
   "number_sections": true,
   "sideBar": true,
   "skip_h1_title": false,
   "title_cell": "Table of Contents",
   "title_sidebar": "Contents",
   "toc_cell": false,
   "toc_position": {},
   "toc_section_display": true,
   "toc_window_display": true
  }
 },
 "nbformat": 4,
 "nbformat_minor": 2
}
